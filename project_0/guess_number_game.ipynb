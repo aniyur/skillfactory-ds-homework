{
 "cells": [
  {
   "cell_type": "markdown",
   "source": [
    "# Игра \"Угадай число\"\n",
    "\n",
    "Наша цель - написать функцию, угадывающую число от 1 до 100 менее\n",
    "чем за 20 попыток.\n",
    "\n",
    "При этом, после каждой попытки, функция может корректировать решение\n",
    "только на основе информации о том, равно ли число отгадке, больше или\n",
    "меньше.\n",
    "\n",
    "Оценивать результат будем на основе подсчёта количества попыток\n",
    "угадываний, потребовавшихся для нахождения отгадки в ходе\n",
    "проведения 1000 таких игр по загаданным псевдослучайным числам.  \n",
    "\n",
    "Сначала импортируем зависимости.\n",
    "\n",
    "Библиотеку `numpy` будем использовать для генерации\n",
    "псевдослучайных чисел."
   ],
   "metadata": {}
  },
  {
   "cell_type": "code",
   "execution_count": 7,
   "source": [
    "from typing import Callable\n",
    "\n",
    "import numpy as np"
   ],
   "outputs": [],
   "metadata": {
    "ExecuteTime": {
     "end_time": "2023-10-02T20:40:05.888265824Z",
     "start_time": "2023-10-02T20:40:05.866155033Z"
    }
   }
  },
  {
   "cell_type": "markdown",
   "source": [
    "## Функция для угадывания числа\n",
    "\n",
    "Реализуем алгоритм двоичного поиска.\n",
    "\n",
    "Сначала установим границы интервала поиска, содержащего угадываемое\n",
    "число.\n",
    " \n",
    "Затем, пока не будет найден ответ, будем пробовать в качестве него\n",
    "число, максимально близкое к середине этого интервала, которое будет\n",
    "становиться его новой границей каждый раз, когда догадка\n",
    "не подтверждается.\n",
    " \n",
    "В зависимости от того, больше ли наше число, чем отгадка, или меньше,\n",
    "эта граница будет, соответственно, верхней или нижней."
   ],
   "metadata": {
    "collapsed": false
   }
  },
  {
   "cell_type": "code",
   "execution_count": 8,
   "outputs": [],
   "source": [
    "def predict_fast(number: int) -> int:\n",
    "    \"\"\"\n",
    "    Угадывает число от 1 до 100 не более чем за 7 попыток.\n",
    "\n",
    "    Args:\n",
    "        number (int): Загаданное число.\n",
    "\n",
    "    Returns:\n",
    "        int: Количество затраченных попыток угадывания.\n",
    "    \"\"\"\n",
    "    guessing_attempts_count = 0\n",
    "\n",
    "    # Зададим границы, между которыми будем искать загаданное число.\n",
    "    lower_boundary = 0\n",
    "    upper_boundary = 101\n",
    "\n",
    "    while True:\n",
    "        guessing_attempts_count += 1\n",
    "\n",
    "        # Чтобы угадать побыстрее, каждый раз выбираем середину\n",
    "        # интервала, в котором содержится искомое число, так\n",
    "        # область поиска сокращается примерно пополам.\n",
    "        prediction = (lower_boundary + upper_boundary) // 2\n",
    "\n",
    "        if number == prediction:\n",
    "            break  # Останавливаем угадывание, поскольку нашли отгадку.\n",
    "\n",
    "        if prediction > number:\n",
    "            upper_boundary = prediction\n",
    "        else:\n",
    "            lower_boundary = prediction\n",
    "\n",
    "    return guessing_attempts_count"
   ],
   "metadata": {
    "collapsed": false,
    "ExecuteTime": {
     "end_time": "2023-10-02T20:40:05.914624245Z",
     "start_time": "2023-10-02T20:40:05.871411914Z"
    }
   }
  },
  {
   "cell_type": "markdown",
   "source": [
    "## Функция для оценки\n",
    "\n",
    "Эта функция необходима, чтобы определить, за какое число попыток\n",
    "программа угадывает наше число.\n",
    "\n",
    "Тут я взял за основу функцию `score_game`, приведённую в [условии\n",
    "задачи](https://apps.skillfactory.ru/learning/course/course-v1:SkillFactory+MFTIDS+SEP2023/block-v1:SkillFactory+MFTIDS+SEP2023+type@sequential+block@24479890fdb6421b99379be454b66966/block-v1:SkillFactory+MFTIDS+SEP2023+type@vertical+block@7166cc10f25642e890e6d2e98b4297ec) на платформе \"Skillfactory\". Но поменял функцию, использующуюся\n",
    "для округления результата с `int` на `round` (что кажется более\n",
    "логичным), и добавил закрепление состояния генератора псевдослучайных\n",
    "чисел для воспроизводимости. "
   ],
   "metadata": {
    "collapsed": false
   }
  },
  {
   "cell_type": "code",
   "execution_count": 9,
   "outputs": [],
   "source": [
    "def score_game(predict_fn: Callable[[int], int]) -> int:\n",
    "    \"\"\"\n",
    "    За какое количество попыток в среднем алгоритм угадывает число.\n",
    "    Среднее рассчитывается по 1000 подходам угадывания псевдослучайных\n",
    "    чисел (для воспроизводимости используется фиксированный генератор).\n",
    "\n",
    "    Args:\n",
    "        predict_fn (Callable[[int], int]): Оцениваемая функция\n",
    "            угадывания, которая должна принимать загаданное число\n",
    "            в качестве аргумента, а возвращать количество затраченных\n",
    "            на его угадывание попыток.\n",
    "\n",
    "    Returns:\n",
    "        int: Округлённое среднее количество попыток угадывания.\n",
    "    \"\"\"\n",
    "    # Количество попыток угадывания, которое потребовалось\n",
    "    # во время каждой игры будем добавлять в список для последующих\n",
    "    # расчётов статистики.\n",
    "    attempts_counts = []\n",
    "    \n",
    "    # Загадываем числа.\n",
    "    random_state = np.random.RandomState(1)\n",
    "    random_numbers = random_state.randint(1, 101, size=1000)\n",
    "\n",
    "    # Играем, записываем количества попыток для последующей оценки.\n",
    "    for number in random_numbers:\n",
    "        attempts_counts.append(predict_fn(number))\n",
    "\n",
    "    game_score = round(np.mean(attempts_counts))\n",
    "    return game_score"
   ],
   "metadata": {
    "collapsed": false,
    "ExecuteTime": {
     "end_time": "2023-10-02T20:40:05.914792213Z",
     "start_time": "2023-10-02T20:40:05.914543721Z"
    }
   }
  },
  {
   "cell_type": "markdown",
   "source": [
    "# Оценка качества алгоритма\n",
    "\n",
    "Теперь выполним наши функции для получения вышеупомянутой оценки\n",
    "среднего количества попыток угадывания, которые требуются нашему\n",
    "алгоритму. Затем выведем результат в понятном виде."
   ],
   "metadata": {
    "collapsed": false
   }
  },
  {
   "cell_type": "code",
   "execution_count": 10,
   "outputs": [
    {
     "name": "stdout",
     "output_type": "stream",
     "text": [
      "Наш алгоритм угадывает число в среднем за 6 попыток.\n"
     ]
    }
   ],
   "source": [
    "score = score_game(predict_fast)\n",
    "print(f\"Наш алгоритм угадывает число в среднем за {score} попыток.\")"
   ],
   "metadata": {
    "collapsed": false,
    "ExecuteTime": {
     "end_time": "2023-10-02T20:40:05.929845825Z",
     "start_time": "2023-10-02T20:40:05.914716279Z"
    }
   }
  },
  {
   "cell_type": "markdown",
   "source": [
    "## Подведение итогов\n",
    "\n",
    "Алгоритм справляется в среднем значительно меньше, чем за 20 попыток.\n",
    "Таким образом, задача решена."
   ],
   "metadata": {
    "collapsed": false
   }
  }
 ],
 "metadata": {
  "orig_nbformat": 4,
  "language_info": {
   "name": "python"
  },
  "kernelspec": {
   "name": "python3",
   "language": "python",
   "display_name": "Python 3 (ipykernel)"
  }
 },
 "nbformat": 4,
 "nbformat_minor": 2
}
