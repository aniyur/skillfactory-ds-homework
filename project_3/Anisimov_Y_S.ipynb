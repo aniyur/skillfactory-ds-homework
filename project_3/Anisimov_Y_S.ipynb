{
 "cells": [
  {
   "cell_type": "markdown",
   "source": [
    "# 0.1. Импортируем зависимости"
   ],
   "metadata": {
    "collapsed": false
   },
   "id": "3cb2b7959a312852"
  },
  {
   "cell_type": "code",
   "execution_count": 63,
   "id": "2874c4d8eaa2aef0",
   "metadata": {
    "collapsed": true,
    "ExecuteTime": {
     "end_time": "2024-02-18T17:32:40.040494774Z",
     "start_time": "2024-02-18T17:32:39.991465491Z"
    }
   },
   "outputs": [],
   "source": [
    "import itertools\n",
    "import pandas as pd\n",
    "import psycopg2\n",
    "from psycopg2.extensions import quote_ident\n",
    "import re"
   ]
  },
  {
   "cell_type": "markdown",
   "source": [
    "# 0.2. Подключимся к базе\n",
    "Предполагается, что соответствующая база и пользователь с соответствующими правами уже созданы, таблиц с наименованиями, конфликтующих с наименованиями таблиц задания в базе нет, подключение таким образом возможно и т.п."
   ],
   "metadata": {
    "collapsed": false
   },
   "id": "3ac1a53d88b52b08"
  },
  {
   "cell_type": "code",
   "execution_count": 64,
   "outputs": [],
   "source": [
    "DATABASE = 'db_hw_2'\n",
    "USER = 'db_hw_2_user'\n",
    "\n",
    "connection = psycopg2.connect(dbname=DATABASE, user=USER)\n",
    "connection.autocommit = True\n",
    "cursor = connection.cursor()"
   ],
   "metadata": {
    "collapsed": false,
    "ExecuteTime": {
     "end_time": "2024-02-18T17:32:40.119775690Z",
     "start_time": "2024-02-18T17:32:39.994379062Z"
    }
   },
   "id": "c00bba8034cfdf17"
  },
  {
   "cell_type": "markdown",
   "source": [
    "# 1.1. Создадим таблицы с соответствующими структурами"
   ],
   "metadata": {
    "collapsed": false
   },
   "id": "9f4214fc1a2e0a9"
  },
  {
   "cell_type": "code",
   "execution_count": 65,
   "outputs": [],
   "source": [
    "cursor.execute(\"\"\"\n",
    "    CREATE TABLE customer_20240101 (\n",
    "        customer_id int4,\n",
    "        first_name varchar(50),\n",
    "        last_name varchar(50),\n",
    "        gender varchar(30),\n",
    "        dob varchar(50),\n",
    "        job_title varchar(50),\n",
    "        job_industry_category varchar(50),\n",
    "        wealth_segment varchar(50),\n",
    "        deceased_indicator varchar(50),\n",
    "        owns_car varchar(30),\n",
    "        address varchar(50),\n",
    "        postcode varchar(30),\n",
    "        state varchar(30),\n",
    "        country varchar(30),\n",
    "        property_valuation int4\n",
    "    )\n",
    "\"\"\")\n",
    "\n",
    "cursor.execute(\"\"\"\n",
    "    CREATE TABLE transaction_20240101 (\n",
    "        transaction_id int4,\n",
    "        product_id int4,\n",
    "        customer_id int4,\n",
    "        transaction_date varchar(30),\n",
    "        online_order varchar(30),\n",
    "        order_status varchar(30),\n",
    "        brand varchar(30),\n",
    "        product_line varchar(30),\n",
    "        product_class varchar(30),\n",
    "        product_size varchar(30),\n",
    "        list_price float4,\n",
    "        standard_cost float4\n",
    "    )\n",
    "\"\"\")"
   ],
   "metadata": {
    "collapsed": false,
    "ExecuteTime": {
     "end_time": "2024-02-18T17:32:40.147812631Z",
     "start_time": "2024-02-18T17:32:40.061748644Z"
    }
   },
   "id": "614bfcbb8d28ebde"
  },
  {
   "cell_type": "markdown",
   "source": [
    "# 1.2. Загрузим данные в базу из csv-файлов \n",
    "Для этого, после чтения данных из каждого файла, будем формировать и выполнять SQL-запрос `INSERT INTO ...` вида `INSERT INTO table_name ( column_name [, ...] ) VALUES (expression, ...), ...` согласно [официальной документации PostgreSQL](https://www.postgresql.org/docs/current/sql-insert.html).\n",
    "\n",
    "Заодно выведем наименования колонок таблиц."
   ],
   "metadata": {
    "collapsed": false
   },
   "id": "210d2e9bad7289a9"
  },
  {
   "cell_type": "code",
   "execution_count": 66,
   "outputs": [
    {
     "name": "stdout",
     "output_type": "stream",
     "text": [
      "Колонки таблицы \"customer_20240101\": \"customer_id\", \"first_name\", \"last_name\", \"gender\", \"dob\", \"job_title\", \"job_industry_category\", \"wealth_segment\", \"deceased_indicator\", \"owns_car\", \"address\", \"postcode\", \"state\", \"country\", \"property_valuation\"\n",
      "Колонки таблицы \"transaction_20240101\": \"transaction_id\", \"product_id\", \"customer_id\", \"transaction_date\", \"online_order\", \"order_status\", \"brand\", \"product_line\", \"product_class\", \"product_size\", \"list_price\", \"standard_cost\"\n"
     ]
    }
   ],
   "source": [
    "for filename in ['customer.csv', 'transaction.csv']:\n",
    "    # прочитаем данные из соответствующего файла\n",
    "    # NULL-ами (в терминах SQL) будем считать пустые строки и строку \"null\" в любом регистре\n",
    "    # типы используем такие, которые позволят избежать нежелательного изменения данных\n",
    "    # с учётом типов, заданных выше для соответствующих колонок наших таблиц в базе\n",
    "    df = pd.read_csv(filename, nrows=1, sep=';')\n",
    "    dtypes = {k: str for k in df.columns}\n",
    "    dtypes.update(list_price=float, standard_cost=float)\n",
    "    df = pd.read_csv(\n",
    "        filename, \n",
    "        sep=';',\n",
    "        na_values=('', ),\n",
    "        keep_default_na=False,\n",
    "        decimal=',',\n",
    "        dtype=dtypes,\n",
    "    )\n",
    "    table = f'{filename[:-4]}_20240101'\n",
    "    df = df.map(lambda x: None if isinstance(x, str) and re.match('^null$', x, flags=re.I) else x)\n",
    "    df = df.where(pd.notnull(df), None)\n",
    "    \n",
    "    # значения для вставки и наименования колонок\n",
    "    values = list(itertools.chain.from_iterable(df.values.tolist()))\n",
    "    cols = [i.lower() for i in df.columns]\n",
    "    del df\n",
    "    \n",
    "    # Сформируем (и выполним) запрос INSERT INTO следующего вида\n",
    "    # INSERT INTO table_name ( column_name [, ...] ) VALUES (expression, ...), ...\n",
    "    # согласно официальной документации https://www.postgresql.org/docs/current/sql-insert.html\n",
    "    cols_sql = ', '.join(quote_ident(i, cursor) for i in cols)\n",
    "    print(f'Колонки таблицы \"{table}\": {cols_sql}')\n",
    "    values_sql = ','.join([f'(' + ','.join(['%s'] * len(cols)) + ')'] * (len(values) // len(cols)))\n",
    "    table_ident = quote_ident(table, cursor)\n",
    "    cursor.execute(f'INSERT INTO {table_ident} ({cols_sql}) VALUES {values_sql}', values)"
   ],
   "metadata": {
    "collapsed": false,
    "ExecuteTime": {
     "end_time": "2024-02-18T17:32:40.635278258Z",
     "start_time": "2024-02-18T17:32:40.061884772Z"
    }
   },
   "id": "68d6e3ccb8f4ccc1"
  },
  {
   "cell_type": "markdown",
   "source": [
    "## Получим полезную информацию о данных для использования в дальнейшем\n",
    "По наименованиям колонок и в результате осмотра данных в файлах / таблицах видим, что потенциальные ключи тут скорее всего `customer_id` для таблицы `customer_20240101` и `transaction_id` для таблицы `transaction_20240101`, а объединять таблицы скорее всего разумно по колонке `customer_id`, получим дополнительные данные, чтобы подкрепить данные предположения."
   ],
   "metadata": {
    "collapsed": false
   },
   "id": "de231368b47a6eaa"
  },
  {
   "cell_type": "code",
   "execution_count": 67,
   "outputs": [
    {
     "name": "stdout",
     "output_type": "stream",
     "text": [
      "В таблице customer_20240101 значения customer_id уникальны: True, есть ли пропуски (null) в customer_id: False\n",
      "В таблице transaction_20240101 значения transaction_id уникальны: True, есть ли пропуски (null) в transaction_id: False\n",
      "В таблице transaction_20240101 количество записей (строк): 20000, записей, по которым нет соответствующей записи в customer_20240101, если присоединять по равенству customer_id: 3\n"
     ]
    }
   ],
   "source": [
    "cursor.execute(\"\"\"\n",
    "    SELECT count(DISTINCT customer_id) = count(*), bool_or(customer_id IS NULL)\n",
    "    FROM customer_20240101\n",
    "\"\"\")\n",
    "print(('В таблице customer_20240101 значения customer_id уникальны: %s,'\n",
    "       + ' есть ли пропуски (null) в customer_id: %s') % cursor.fetchall()[0])\n",
    "cursor.execute(\"\"\"\n",
    "    SELECT count(DISTINCT transaction_id) = count(*), bool_or(transaction_id IS NULL)\n",
    "    FROM transaction_20240101\n",
    "\"\"\")\n",
    "print(('В таблице transaction_20240101 значения transaction_id уникальны: %s,'\n",
    "       ' есть ли пропуски (null) в transaction_id: %s') % cursor.fetchall()[0])\n",
    "cursor.execute(\"\"\"\n",
    "    SELECT count(*), sum((c.customer_id IS NULL)::int)\n",
    "    FROM transaction_20240101 t LEFT JOIN customer_20240101 c USING (customer_id)\n",
    "\"\"\")\n",
    "print(('В таблице transaction_20240101 количество записей (строк): %s, записей,'\n",
    "       ' по которым нет соответствующей записи в customer_20240101,'\n",
    "       ' если присоединять по равенству customer_id: %s') % cursor.fetchall()[0])"
   ],
   "metadata": {
    "collapsed": false,
    "ExecuteTime": {
     "end_time": "2024-02-18T17:32:40.678371913Z",
     "start_time": "2024-02-18T17:32:40.636641632Z"
    }
   },
   "id": "8534e289452e8167"
  },
  {
   "cell_type": "markdown",
   "source": [
    "Из вышеполученных результатов видим, что атрибуты `customer_id` и `transaction_id` являются потенциальными ключами таблиц `customer_20240101` и `transaction_20240101` соответственно.\n",
    "Для надёжности, ниже создадим соответствующие ограничения \"первичный ключ\", что не получится, если вывод неверен.\n",
    "Кроме того, видно, что почти всем значениям `customer_id` в таблице `transaction_20240101` соответствует значение `customer_id` в таблице `customer_20240101`, поэтому будем соединять их по равенству значений этой колонки, когда для запроса нам будут нужны данные из обеих таблиц."
   ],
   "metadata": {
    "collapsed": false
   },
   "id": "76b24c2eff537c4d"
  },
  {
   "cell_type": "code",
   "execution_count": 68,
   "outputs": [],
   "source": [
    "cursor.execute('ALTER TABLE customer_20240101 ADD PRIMARY KEY (customer_id)')\n",
    "cursor.execute('ALTER TABLE transaction_20240101 ADD PRIMARY KEY (transaction_id)')"
   ],
   "metadata": {
    "collapsed": false,
    "ExecuteTime": {
     "end_time": "2024-02-18T17:32:40.687117549Z",
     "start_time": "2024-02-18T17:32:40.677974979Z"
    }
   },
   "id": "1468fe94aec00cd6"
  },
  {
   "cell_type": "markdown",
   "source": [
    "Получилось наложить соответствующие ограничения \"первичный ключ\", чем дополнительно подтвердилось, что можем полагаться на то, что ключам customer_id, transaction_id соответствуют уникальные строки в соответствующих таблицах, где они являются первичными ключами, пропусков (null в терминах SQL) в этих полях нет."
   ],
   "metadata": {
    "collapsed": false
   },
   "id": "16f7f004166cb758"
  },
  {
   "cell_type": "markdown",
   "source": [
    "Поскольку ниже нам понадобится знать, является ли заказ онлайн-заказом или нет, посмотрим, какие значения бывают в соответствующей колонке."
   ],
   "metadata": {
    "collapsed": false
   },
   "id": "9747e424a4e83ec6"
  },
  {
   "cell_type": "code",
   "execution_count": 69,
   "outputs": [
    {
     "data": {
      "text/plain": "[(None,), ('True',), ('False',)]"
     },
     "execution_count": 69,
     "metadata": {},
     "output_type": "execute_result"
    }
   ],
   "source": [
    "cursor.execute('SELECT DISTINCT online_order FROM transaction_20240101')\n",
    "cursor.fetchall()"
   ],
   "metadata": {
    "collapsed": false,
    "ExecuteTime": {
     "end_time": "2024-02-18T17:32:40.693302851Z",
     "start_time": "2024-02-18T17:32:40.686200723Z"
    }
   },
   "id": "2b71a88084ac4d28"
  },
  {
   "cell_type": "markdown",
   "source": [
    "Видим, что для получения онлайн-заказов разумно будет использовать условие `online_order = 'True'`."
   ],
   "metadata": {
    "collapsed": false
   },
   "id": "2ef5ba65d3183489"
  },
  {
   "cell_type": "markdown",
   "source": [
    "Далее посмотрим, какие значения бывают у статуса подтверждённости транзакции."
   ],
   "metadata": {
    "collapsed": false
   },
   "id": "1177fc50a652f9cf"
  },
  {
   "cell_type": "code",
   "execution_count": 70,
   "outputs": [
    {
     "data": {
      "text/plain": "[('Approved',), ('Cancelled',)]"
     },
     "execution_count": 70,
     "metadata": {},
     "output_type": "execute_result"
    }
   ],
   "source": [
    "cursor.execute('SELECT DISTINCT order_status FROM transaction_20240101')\n",
    "cursor.fetchall()"
   ],
   "metadata": {
    "collapsed": false,
    "ExecuteTime": {
     "end_time": "2024-02-18T17:32:40.721481344Z",
     "start_time": "2024-02-18T17:32:40.693459864Z"
    }
   },
   "id": "eb6f4a630cb6776f"
  },
  {
   "cell_type": "markdown",
   "source": [
    "Видим, что подтверждённые транзакции разумно будет выбирать по значению `order_status = 'Approved'`"
   ],
   "metadata": {
    "collapsed": false
   },
   "id": "8111bd234a230341"
  },
  {
   "cell_type": "markdown",
   "source": [
    "# 2. Выполним запросы для вывода разной информации\n",
    "\n",
    "Результат каждого запроса будем выводить в виде списка кортежей, который возвращает метод `cursor.fetchall` соответствующего объекта из библиотеки `psycopg2`\n",
    "\n",
    "Ниже в запросах будем использовать оператор `DISTINCT` для вывода только уникальных строк, функцию `to_date` для приведения строк к типу `date`.\n",
    "\n",
    "## 2.1. Выведем все уникальные бренды, у которых стандартная стоимость выше 1500 долларов"
   ],
   "metadata": {
    "collapsed": false
   },
   "id": "1d66bcd38e200e19"
  },
  {
   "cell_type": "code",
   "execution_count": 71,
   "outputs": [
    {
     "data": {
      "text/plain": "[('Solex',), ('Giant Bicycles',), ('OHM Cycles',), ('Trek Bicycles',)]"
     },
     "execution_count": 71,
     "metadata": {},
     "output_type": "execute_result"
    }
   ],
   "source": [
    "cursor.execute(\"\"\"\n",
    "    SELECT DISTINCT brand\n",
    "    FROM transaction_20240101\n",
    "    WHERE standard_cost > 1500\n",
    "        -- кажется нелогичным считать пропуски (NULL) брендами, поэтому их выводить не будем\n",
    "        AND brand IS NOT NULL\n",
    "\"\"\")\n",
    "cursor.fetchall()"
   ],
   "metadata": {
    "collapsed": false,
    "ExecuteTime": {
     "end_time": "2024-02-18T17:32:40.759567283Z",
     "start_time": "2024-02-18T17:32:40.701133338Z"
    }
   },
   "id": "532f25bb137bd4a9"
  },
  {
   "cell_type": "markdown",
   "source": [
    "## 2.2. Выведем все подтвержденные транзакции за период с '2017-04-01' по '2017-04-09' включительно"
   ],
   "metadata": {
    "collapsed": false
   },
   "id": "3117b25c044fdc4a"
  },
  {
   "cell_type": "code",
   "execution_count": 80,
   "outputs": [
    {
     "data": {
      "text/plain": "[(17, '03.04.2017'),\n (19, '06.04.2017'),\n (23, '08.04.2017'),\n (83, '01.04.2017'),\n (89, '04.04.2017'),\n (126, '01.04.2017'),\n (146, '06.04.2017'),\n (154, '06.04.2017'),\n (220, '09.04.2017'),\n (228, '04.04.2017'),\n (280, '08.04.2017'),\n (290, '05.04.2017'),\n (304, '07.04.2017'),\n (526, '02.04.2017'),\n (534, '08.04.2017'),\n (563, '05.04.2017'),\n (669, '07.04.2017'),\n (671, '09.04.2017'),\n (767, '06.04.2017'),\n (898, '03.04.2017'),\n (904, '02.04.2017'),\n (943, '08.04.2017'),\n (948, '09.04.2017'),\n (1044, '01.04.2017'),\n (1049, '07.04.2017'),\n (1073, '05.04.2017'),\n (1074, '05.04.2017'),\n (1125, '07.04.2017'),\n (1161, '02.04.2017'),\n (1187, '06.04.2017'),\n (1197, '04.04.2017'),\n (1235, '04.04.2017'),\n (1242, '03.04.2017'),\n (1254, '04.04.2017'),\n (1275, '08.04.2017'),\n (1294, '09.04.2017'),\n (1342, '03.04.2017'),\n (1418, '08.04.2017'),\n (1497, '08.04.2017'),\n (1503, '07.04.2017'),\n (1593, '06.04.2017'),\n (1639, '08.04.2017'),\n (1653, '02.04.2017'),\n (1686, '03.04.2017'),\n (1695, '03.04.2017'),\n (1707, '03.04.2017'),\n (1714, '09.04.2017'),\n (1799, '04.04.2017'),\n (1825, '07.04.2017'),\n (1827, '04.04.2017'),\n (1854, '04.04.2017'),\n (1890, '04.04.2017'),\n (1911, '01.04.2017'),\n (1930, '01.04.2017'),\n (1999, '04.04.2017'),\n (2001, '03.04.2017'),\n (2010, '02.04.2017'),\n (2049, '06.04.2017'),\n (2051, '08.04.2017'),\n (2055, '02.04.2017'),\n (2070, '06.04.2017'),\n (2099, '04.04.2017'),\n (2146, '01.04.2017'),\n (2222, '07.04.2017'),\n (2251, '06.04.2017'),\n (2277, '02.04.2017'),\n (2304, '09.04.2017'),\n (2370, '01.04.2017'),\n (2383, '02.04.2017'),\n (2410, '07.04.2017'),\n (2420, '02.04.2017'),\n (2451, '01.04.2017'),\n (2460, '07.04.2017'),\n (2508, '06.04.2017'),\n (2529, '05.04.2017'),\n (2551, '01.04.2017'),\n (2564, '06.04.2017'),\n (2590, '09.04.2017'),\n (2638, '07.04.2017'),\n (2660, '01.04.2017'),\n (2677, '04.04.2017'),\n (2694, '04.04.2017'),\n (2724, '08.04.2017'),\n (2810, '07.04.2017'),\n (2817, '02.04.2017'),\n (2913, '06.04.2017'),\n (2940, '02.04.2017'),\n (2988, '04.04.2017'),\n (3042, '05.04.2017'),\n (3189, '09.04.2017'),\n (3214, '02.04.2017'),\n (3247, '05.04.2017'),\n (3363, '09.04.2017'),\n (3382, '08.04.2017'),\n (3440, '04.04.2017'),\n (3457, '08.04.2017'),\n (3459, '09.04.2017'),\n (3483, '03.04.2017'),\n (3510, '09.04.2017'),\n (3524, '01.04.2017'),\n (3527, '09.04.2017'),\n (3551, '08.04.2017'),\n (3560, '08.04.2017'),\n (3588, '02.04.2017'),\n (3611, '08.04.2017'),\n (3691, '05.04.2017'),\n (3707, '09.04.2017'),\n (3716, '09.04.2017'),\n (3717, '08.04.2017'),\n (3765, '06.04.2017'),\n (3779, '07.04.2017'),\n (3819, '05.04.2017'),\n (3822, '06.04.2017'),\n (3972, '04.04.2017'),\n (4069, '02.04.2017'),\n (4073, '03.04.2017'),\n (4074, '09.04.2017'),\n (4118, '04.04.2017'),\n (4137, '03.04.2017'),\n (4316, '06.04.2017'),\n (4340, '05.04.2017'),\n (4386, '07.04.2017'),\n (4416, '02.04.2017'),\n (4452, '02.04.2017'),\n (4458, '04.04.2017'),\n (4477, '07.04.2017'),\n (4492, '01.04.2017'),\n (4534, '09.04.2017'),\n (4640, '04.04.2017'),\n (4656, '08.04.2017'),\n (4674, '04.04.2017'),\n (4765, '09.04.2017'),\n (4828, '07.04.2017'),\n (4844, '06.04.2017'),\n (4873, '06.04.2017'),\n (4914, '04.04.2017'),\n (4960, '05.04.2017'),\n (4984, '08.04.2017'),\n (4994, '02.04.2017'),\n (5008, '06.04.2017'),\n (5043, '02.04.2017'),\n (5058, '05.04.2017'),\n (5099, '01.04.2017'),\n (5105, '09.04.2017'),\n (5195, '08.04.2017'),\n (5411, '03.04.2017'),\n (5417, '06.04.2017'),\n (5433, '07.04.2017'),\n (5537, '05.04.2017'),\n (5643, '07.04.2017'),\n (5702, '08.04.2017'),\n (5781, '09.04.2017'),\n (5802, '05.04.2017'),\n (5896, '03.04.2017'),\n (5922, '01.04.2017'),\n (5928, '05.04.2017'),\n (5991, '05.04.2017'),\n (6004, '02.04.2017'),\n (6046, '01.04.2017'),\n (6178, '02.04.2017'),\n (6262, '04.04.2017'),\n (6270, '04.04.2017'),\n (6438, '01.04.2017'),\n (6475, '05.04.2017'),\n (6525, '05.04.2017'),\n (6588, '06.04.2017'),\n (6590, '06.04.2017'),\n (6623, '08.04.2017'),\n (6646, '05.04.2017'),\n (6652, '08.04.2017'),\n (6717, '01.04.2017'),\n (6723, '05.04.2017'),\n (6725, '04.04.2017'),\n (6733, '05.04.2017'),\n (6762, '08.04.2017'),\n (6843, '07.04.2017'),\n (6859, '09.04.2017'),\n (6876, '04.04.2017'),\n (6899, '02.04.2017'),\n (6918, '05.04.2017'),\n (6938, '09.04.2017'),\n (6983, '05.04.2017'),\n (6993, '06.04.2017'),\n (7085, '06.04.2017'),\n (7165, '09.04.2017'),\n (7181, '09.04.2017'),\n (7211, '05.04.2017'),\n (7226, '04.04.2017'),\n (7251, '04.04.2017'),\n (7258, '05.04.2017'),\n (7266, '02.04.2017'),\n (7302, '01.04.2017'),\n (7320, '05.04.2017'),\n (7361, '03.04.2017'),\n (7388, '02.04.2017'),\n (7390, '05.04.2017'),\n (7397, '07.04.2017'),\n (7418, '06.04.2017'),\n (7444, '04.04.2017'),\n (7493, '02.04.2017'),\n (7526, '06.04.2017'),\n (7674, '02.04.2017'),\n (7695, '02.04.2017'),\n (7703, '06.04.2017'),\n (7719, '08.04.2017'),\n (7768, '06.04.2017'),\n (7777, '09.04.2017'),\n (7802, '08.04.2017'),\n (7803, '09.04.2017'),\n (7813, '03.04.2017'),\n (7828, '08.04.2017'),\n (7847, '09.04.2017'),\n (7852, '03.04.2017'),\n (7891, '09.04.2017'),\n (7915, '07.04.2017'),\n (8006, '08.04.2017'),\n (8024, '09.04.2017'),\n (8057, '04.04.2017'),\n (8075, '04.04.2017'),\n (8087, '09.04.2017'),\n (8228, '07.04.2017'),\n (8259, '01.04.2017'),\n (8265, '01.04.2017'),\n (8304, '02.04.2017'),\n (8377, '01.04.2017'),\n (8383, '01.04.2017'),\n (8514, '06.04.2017'),\n (8534, '09.04.2017'),\n (8567, '03.04.2017'),\n (8624, '03.04.2017'),\n (8626, '01.04.2017'),\n (8640, '05.04.2017'),\n (8676, '03.04.2017'),\n (8699, '04.04.2017'),\n (8789, '02.04.2017'),\n (8795, '08.04.2017'),\n (8860, '04.04.2017'),\n (8871, '05.04.2017'),\n (8888, '08.04.2017'),\n (8895, '08.04.2017'),\n (8909, '08.04.2017'),\n (8988, '02.04.2017'),\n (9026, '07.04.2017'),\n (9136, '06.04.2017'),\n (9297, '04.04.2017'),\n (9329, '09.04.2017'),\n (9354, '06.04.2017'),\n (9378, '01.04.2017'),\n (9383, '05.04.2017'),\n (9395, '05.04.2017'),\n (9449, '07.04.2017'),\n (9460, '09.04.2017'),\n (9526, '07.04.2017'),\n (9602, '02.04.2017'),\n (9606, '07.04.2017'),\n (9625, '01.04.2017'),\n (9636, '05.04.2017'),\n (9677, '04.04.2017'),\n (9685, '09.04.2017'),\n (9687, '09.04.2017'),\n (9703, '01.04.2017'),\n (9758, '02.04.2017'),\n (9801, '04.04.2017'),\n (9828, '03.04.2017'),\n (9883, '07.04.2017'),\n (9961, '08.04.2017'),\n (9983, '03.04.2017'),\n (10004, '08.04.2017'),\n (10012, '02.04.2017'),\n (10031, '01.04.2017'),\n (10132, '06.04.2017'),\n (10169, '05.04.2017'),\n (10232, '08.04.2017'),\n (10242, '04.04.2017'),\n (10308, '03.04.2017'),\n (10358, '09.04.2017'),\n (10390, '07.04.2017'),\n (10437, '05.04.2017'),\n (10506, '07.04.2017'),\n (10525, '09.04.2017'),\n (10608, '01.04.2017'),\n (10612, '09.04.2017'),\n (10631, '08.04.2017'),\n (10682, '09.04.2017'),\n (10702, '07.04.2017'),\n (10748, '08.04.2017'),\n (10754, '02.04.2017'),\n (10832, '05.04.2017'),\n (10839, '05.04.2017'),\n (10867, '08.04.2017'),\n (10919, '04.04.2017'),\n (10963, '03.04.2017'),\n (11145, '06.04.2017'),\n (11161, '01.04.2017'),\n (11196, '01.04.2017'),\n (11209, '07.04.2017'),\n (11242, '01.04.2017'),\n (11252, '09.04.2017'),\n (11277, '03.04.2017'),\n (11299, '04.04.2017'),\n (11381, '02.04.2017'),\n (11436, '02.04.2017'),\n (11484, '06.04.2017'),\n (11493, '08.04.2017'),\n (11532, '08.04.2017'),\n (11557, '05.04.2017'),\n (11559, '06.04.2017'),\n (11579, '07.04.2017'),\n (11598, '07.04.2017'),\n (11706, '02.04.2017'),\n (11727, '05.04.2017'),\n (11730, '06.04.2017'),\n (11791, '03.04.2017'),\n (11808, '04.04.2017'),\n (11816, '05.04.2017'),\n (11875, '02.04.2017'),\n (11904, '06.04.2017'),\n (11908, '08.04.2017'),\n (11938, '02.04.2017'),\n (12037, '08.04.2017'),\n (12070, '06.04.2017'),\n (12175, '06.04.2017'),\n (12180, '07.04.2017'),\n (12184, '02.04.2017'),\n (12229, '04.04.2017'),\n (12320, '07.04.2017'),\n (12330, '05.04.2017'),\n (12391, '08.04.2017'),\n (12418, '06.04.2017'),\n (12419, '03.04.2017'),\n (12441, '03.04.2017'),\n (12472, '07.04.2017'),\n (12501, '08.04.2017'),\n (12506, '07.04.2017'),\n (12547, '03.04.2017'),\n (12613, '06.04.2017'),\n (12646, '08.04.2017'),\n (12677, '05.04.2017'),\n (12820, '05.04.2017'),\n (12902, '03.04.2017'),\n (12954, '05.04.2017'),\n (12963, '02.04.2017'),\n (12969, '08.04.2017'),\n (12989, '09.04.2017'),\n (12996, '09.04.2017'),\n (12999, '09.04.2017'),\n (13012, '02.04.2017'),\n (13048, '01.04.2017'),\n (13085, '01.04.2017'),\n (13135, '09.04.2017'),\n (13160, '09.04.2017'),\n (13162, '09.04.2017'),\n (13183, '07.04.2017'),\n (13298, '01.04.2017'),\n (13313, '07.04.2017'),\n (13365, '05.04.2017'),\n (13395, '06.04.2017'),\n (13494, '07.04.2017'),\n (13496, '08.04.2017'),\n (13515, '01.04.2017'),\n (13518, '05.04.2017'),\n (13561, '01.04.2017'),\n (13563, '02.04.2017'),\n (13567, '09.04.2017'),\n (13579, '01.04.2017'),\n (13596, '05.04.2017'),\n (13607, '03.04.2017'),\n (13642, '04.04.2017'),\n (13715, '08.04.2017'),\n (13747, '07.04.2017'),\n (13760, '04.04.2017'),\n (13898, '01.04.2017'),\n (13907, '04.04.2017'),\n (13971, '03.04.2017'),\n (13995, '08.04.2017'),\n (14032, '08.04.2017'),\n (14039, '04.04.2017'),\n (14074, '04.04.2017'),\n (14189, '06.04.2017'),\n (14237, '01.04.2017'),\n (14257, '04.04.2017'),\n (14319, '09.04.2017'),\n (14336, '09.04.2017'),\n (14394, '01.04.2017'),\n (14522, '06.04.2017'),\n (14541, '01.04.2017'),\n (14544, '07.04.2017'),\n (14612, '02.04.2017'),\n (14619, '09.04.2017'),\n (14632, '07.04.2017'),\n (14640, '09.04.2017'),\n (14684, '01.04.2017'),\n (14720, '09.04.2017'),\n (14829, '04.04.2017'),\n (15108, '08.04.2017'),\n (15113, '05.04.2017'),\n (15171, '02.04.2017'),\n (15177, '08.04.2017'),\n (15191, '04.04.2017'),\n (15266, '04.04.2017'),\n (15291, '01.04.2017'),\n (15304, '09.04.2017'),\n (15316, '05.04.2017'),\n (15394, '02.04.2017'),\n (15441, '04.04.2017'),\n (15442, '07.04.2017'),\n (15444, '04.04.2017'),\n (15488, '01.04.2017'),\n (15538, '01.04.2017'),\n (15549, '05.04.2017'),\n (15559, '01.04.2017'),\n (15572, '03.04.2017'),\n (15576, '01.04.2017'),\n (15597, '09.04.2017'),\n (15626, '02.04.2017'),\n (15657, '02.04.2017'),\n (15728, '06.04.2017'),\n (15758, '04.04.2017'),\n (15809, '02.04.2017'),\n (15856, '08.04.2017'),\n (15860, '01.04.2017'),\n (15876, '01.04.2017'),\n (15912, '07.04.2017'),\n (15980, '01.04.2017'),\n (15981, '07.04.2017'),\n (16032, '04.04.2017'),\n (16049, '08.04.2017'),\n (16074, '03.04.2017'),\n (16087, '05.04.2017'),\n (16143, '02.04.2017'),\n (16162, '06.04.2017'),\n (16200, '09.04.2017'),\n (16246, '06.04.2017'),\n (16248, '02.04.2017'),\n (16278, '08.04.2017'),\n (16355, '05.04.2017'),\n (16379, '04.04.2017'),\n (16394, '07.04.2017'),\n (16404, '08.04.2017'),\n (16459, '09.04.2017'),\n (16498, '05.04.2017'),\n (16606, '01.04.2017'),\n (16620, '02.04.2017'),\n (16621, '01.04.2017'),\n (16741, '09.04.2017'),\n (16779, '01.04.2017'),\n (16861, '05.04.2017'),\n (16867, '01.04.2017'),\n (16888, '05.04.2017'),\n (16914, '08.04.2017'),\n (16915, '03.04.2017'),\n (16940, '06.04.2017'),\n (16982, '06.04.2017'),\n (16991, '06.04.2017'),\n (17001, '09.04.2017'),\n (17014, '03.04.2017'),\n (17082, '03.04.2017'),\n (17083, '08.04.2017'),\n (17108, '02.04.2017'),\n (17139, '03.04.2017'),\n (17142, '04.04.2017'),\n (17143, '07.04.2017'),\n (17150, '06.04.2017'),\n (17157, '09.04.2017'),\n (17165, '05.04.2017'),\n (17168, '09.04.2017'),\n (17169, '08.04.2017'),\n (17255, '02.04.2017'),\n (17266, '06.04.2017'),\n (17380, '05.04.2017'),\n (17407, '02.04.2017'),\n (17453, '02.04.2017'),\n (17456, '05.04.2017'),\n (17517, '07.04.2017'),\n (17542, '01.04.2017'),\n (17652, '07.04.2017'),\n (17660, '01.04.2017'),\n (17681, '07.04.2017'),\n (17704, '02.04.2017'),\n (17714, '05.04.2017'),\n (17737, '02.04.2017'),\n (17741, '08.04.2017'),\n (17762, '08.04.2017'),\n (17834, '07.04.2017'),\n (17844, '03.04.2017'),\n (17945, '05.04.2017'),\n (18017, '03.04.2017'),\n (18041, '01.04.2017'),\n (18086, '07.04.2017'),\n (18090, '04.04.2017'),\n (18160, '05.04.2017'),\n (18298, '06.04.2017'),\n (18376, '08.04.2017'),\n (18470, '08.04.2017'),\n (18478, '09.04.2017'),\n (18503, '03.04.2017'),\n (18529, '09.04.2017'),\n (18542, '01.04.2017'),\n (18552, '05.04.2017'),\n (18560, '05.04.2017'),\n (18681, '09.04.2017'),\n (18701, '08.04.2017'),\n (18709, '07.04.2017'),\n (18750, '05.04.2017'),\n (18771, '04.04.2017'),\n (18797, '02.04.2017'),\n (18837, '04.04.2017'),\n (18947, '03.04.2017'),\n (18960, '01.04.2017'),\n (19057, '09.04.2017'),\n (19100, '02.04.2017'),\n (19141, '03.04.2017'),\n (19210, '07.04.2017'),\n (19215, '04.04.2017'),\n (19299, '02.04.2017'),\n (19311, '08.04.2017'),\n (19338, '06.04.2017'),\n (19339, '05.04.2017'),\n (19354, '01.04.2017'),\n (19418, '04.04.2017'),\n (19424, '06.04.2017'),\n (19541, '08.04.2017'),\n (19546, '06.04.2017'),\n (19556, '09.04.2017'),\n (19575, '06.04.2017'),\n (19628, '07.04.2017'),\n (19655, '09.04.2017'),\n (19853, '02.04.2017'),\n (19899, '06.04.2017'),\n (19968, '06.04.2017'),\n (19988, '05.04.2017')]"
     },
     "execution_count": 80,
     "metadata": {},
     "output_type": "execute_result"
    }
   ],
   "source": [
    "cursor.execute(\"\"\"\n",
    "    SELECT transaction_id, transaction_date\n",
    "    FROM transaction_20240101\n",
    "    WHERE order_status = 'Approved'\n",
    "        AND to_date(transaction_date, 'DD.MM.YYYY') BETWEEN '2017-04-01' AND '2017-04-09'\n",
    "\"\"\")\n",
    "cursor.fetchall()"
   ],
   "metadata": {
    "collapsed": false,
    "ExecuteTime": {
     "end_time": "2024-02-18T17:36:07.730306421Z",
     "start_time": "2024-02-18T17:36:07.685889095Z"
    }
   },
   "id": "b02071aaddf6e220"
  },
  {
   "cell_type": "markdown",
   "source": [
    "## 2.3. Выведем все профессии у клиентов из сферы IT или Financial Services, которые начинаются с фразы 'Senior'\n",
    "Для такой фильтрации используем оператор `SIMILAR TO` для фильтрации с помощью регулярного выражения в определении SQL стандарта, а такое выражение, соответственно, пропишем в запросе в виде `'Senior\\M%'`, чтобы фильтровались наименования, начинающиеся с фразы 'Senior'."
   ],
   "metadata": {
    "collapsed": false
   },
   "id": "cbabd1127baf38d"
  },
  {
   "cell_type": "code",
   "execution_count": 73,
   "outputs": [
    {
     "data": {
      "text/plain": "[('Senior Cost Accountant',),\n ('Senior Developer',),\n ('Senior Editor',),\n ('Senior Financial Analyst',),\n ('Senior Quality Engineer',),\n ('Senior Sales Associate',)]"
     },
     "execution_count": 73,
     "metadata": {},
     "output_type": "execute_result"
    }
   ],
   "source": [
    "cursor.execute(\"\"\"\n",
    "    SELECT DISTINCT job_title\n",
    "    FROM customer_20240101\n",
    "    WHERE job_industry_category IN ('IT', 'Financial Services')\n",
    "        AND job_title SIMILAR TO 'Senior\\M%'\n",
    "\"\"\")\n",
    "cursor.fetchall()"
   ],
   "metadata": {
    "collapsed": false,
    "ExecuteTime": {
     "end_time": "2024-02-18T17:32:40.759989643Z",
     "start_time": "2024-02-18T17:32:40.745940713Z"
    }
   },
   "id": "77aebe35982fa0ac"
  },
  {
   "cell_type": "markdown",
   "source": [
    "## 2.4. Выведем все бренды, которые закупают клиенты, работающие в сфере Financial Services\n",
    "Здесь нам понадобятся данные из двух таблиц. Для присоединения используем, например, оператор `USING`, т.к. присоединять мы хотим по условию равенства значений `customer_id` из обеих таблиц (осмотрев данные в файле и по наименованиям колонок таблиц, которые мы выводили выше, несложно сделать вывод, что присоединять нужно по `customer_id`), что данный оператор нам и обеспечит.\n",
    "\n",
    "Используем `INNER JOIN`, т.к. нас интересуют только случаи наличия соответствующих данных в обеих таблицах."
   ],
   "metadata": {
    "collapsed": false
   },
   "id": "a2c7a757ea0a691f"
  },
  {
   "cell_type": "code",
   "execution_count": 74,
   "outputs": [
    {
     "data": {
      "text/plain": "[('Giant Bicycles',),\n ('Norco Bicycles',),\n ('OHM Cycles',),\n ('Solex',),\n ('Trek Bicycles',),\n ('WeareA2B',)]"
     },
     "execution_count": 74,
     "metadata": {},
     "output_type": "execute_result"
    }
   ],
   "source": [
    "cursor.execute(\"\"\"\n",
    "    SELECT DISTINCT t.brand\n",
    "    FROM transaction_20240101 t\n",
    "    INNER JOIN customer_20240101 c\n",
    "        USING (customer_id)\n",
    "    WHERE c.job_industry_category = 'Financial Services'\n",
    "        AND t.brand IS NOT NULL\n",
    "\"\"\")\n",
    "cursor.fetchall()"
   ],
   "metadata": {
    "collapsed": false,
    "ExecuteTime": {
     "end_time": "2024-02-18T17:32:40.760039221Z",
     "start_time": "2024-02-18T17:32:40.746005366Z"
    }
   },
   "id": "d44d1a5743e87f90"
  },
  {
   "cell_type": "markdown",
   "source": [
    "## 2.5. Выведем 10 клиентов, которые оформили онлайн-заказ продукции из брендов 'Giant Bicycles', 'Norco Bicycles', 'Trek Bicycles'\n",
    "Для разнообразия (и чтобы показать, что мы и так умеем) присоединим по условию без оператора `USING`."
   ],
   "metadata": {
    "collapsed": false
   },
   "id": "64e038dec90b0648"
  },
  {
   "cell_type": "code",
   "execution_count": 75,
   "outputs": [
    {
     "data": {
      "text/plain": "[(1, 'Laraine', 'Medendorp'),\n (2, 'Eli', 'Bockman'),\n (3, 'Arlin', 'Dearle'),\n (5, 'Sheila-kathryn', 'Calton'),\n (6, 'Curr', 'Duckhouse'),\n (7, 'Fina', 'Merali'),\n (8, 'Rod', 'Inder'),\n (11, 'Uriah', 'Bisatt'),\n (12, 'Sawyere', 'Flattman'),\n (13, 'Gabriele', 'Norcross')]"
     },
     "execution_count": 75,
     "metadata": {},
     "output_type": "execute_result"
    }
   ],
   "source": [
    "cursor.execute(\"\"\"\n",
    "    SELECT DISTINCT c.customer_id, c.first_name, c.last_name\n",
    "    FROM customer_20240101 c\n",
    "    INNER JOIN transaction_20240101 t\n",
    "        ON t.customer_id = c.customer_id\n",
    "    WHERE t.online_order = 'True'\n",
    "        AND t.brand IN ('Giant Bicycles', 'Norco Bicycles', 'Trek Bicycles')\n",
    "    LIMIT 10\n",
    "\"\"\")\n",
    "cursor.fetchall()"
   ],
   "metadata": {
    "collapsed": false,
    "ExecuteTime": {
     "end_time": "2024-02-18T17:32:40.760945080Z",
     "start_time": "2024-02-18T17:32:40.746092264Z"
    }
   },
   "id": "cdaadec9ec7729bc"
  },
  {
   "cell_type": "markdown",
   "source": [
    "## 2.6. Выведем всех клиентов, у которых нет транзакций\n",
    "Тут используем `LEFT JOIN`, чтобы в выборке сохранились строки из `customer_20240101`, не соответствующие никаким строкам из `transaction_20240101` по соответствующему условию. Эти строки нас и будут интересовать - это будут строки, относящиеся к клиентам, у которых нет транзакций, что нас и интересует. Отфильтруем их с помощью соответствующего условия, как показано в запросе."
   ],
   "metadata": {
    "collapsed": false
   },
   "id": "87c23bcb9121e095"
  },
  {
   "cell_type": "code",
   "execution_count": 79,
   "outputs": [
    {
     "data": {
      "text/plain": "[(852, 'Andie', 'Bonney'),\n (869, 'Addia', 'Abels'),\n (1373, 'Shaylynn', 'Epsley'),\n (2074, 'Roslyn', 'Rawdall'),\n (2660, 'Hunt', 'Scollard'),\n (3229, 'Carrol', 'Gheorghie'),\n (3236, 'Edsel', 'Arguile'),\n (3501, 'Kayla', 'Alentyev'),\n (3502, 'Wilfrid', 'Cleaves'),\n (3503, 'Tootsie', 'Rafter'),\n (3504, 'Keriann', 'Perdue'),\n (3505, 'Dolly', 'Scallan'),\n (3506, 'Mercy', 'Donisi'),\n (3507, 'Christoph', 'Greatreax'),\n (3508, 'Malvin', 'Marre'),\n (3509, 'Janine', 'Hesey'),\n (3510, 'Jemima', 'Izaac'),\n (3511, 'Willem', 'Spraging'),\n (3512, 'Vladimir', 'Abramowsky'),\n (3513, 'Enriqueta', 'Waterhowse'),\n (3514, 'Darcy', 'Ilett'),\n (3515, 'Leelah', 'Pynner'),\n (3516, 'Diarmid', 'Vearnals'),\n (3517, 'Domeniga', 'Terney'),\n (3518, 'Magdaia', 'Beardwell'),\n (3519, 'Aldus', 'Kenningley'),\n (3520, 'Travis', 'Kaszper'),\n (3521, 'Oneida', 'Olivia'),\n (3522, 'Lorri', 'Byrth'),\n (3523, 'Lin', 'Tarver'),\n (3524, 'Waiter', 'Piscopello'),\n (3525, 'Town', 'Yitzhakov'),\n (3526, 'Pail', 'Iacopini'),\n (3527, 'Kiley', 'Scotson'),\n (3528, 'Eliot', 'Scammell'),\n (3529, 'Austine', 'Kinny'),\n (3530, 'Erik', 'Kenneford'),\n (3531, 'Shannah', 'Pountain'),\n (3532, 'May', 'Birch'),\n (3533, 'Neale', 'Lowings'),\n (3534, 'Kacie', 'Stanbrooke'),\n (3535, 'Bren', 'Dabbes'),\n (3536, 'Laurence', 'Aulsford'),\n (3537, 'Sholom', 'Pavlasek'),\n (3538, 'Kerby', 'Nassie'),\n (3539, 'Sheelah', 'Caine'),\n (3540, 'Ali', 'Naris'),\n (3541, 'Aloin', 'Harhoff'),\n (3542, 'Perl', 'Suddaby'),\n (3543, 'Shanie', 'Zahor'),\n (3544, 'Benoite', 'Trahmel'),\n (3545, 'Wenonah', 'Filgate'),\n (3546, 'Hally', 'Pollie'),\n (3547, 'Ganny', 'Dwerryhouse'),\n (3548, 'Dalli', 'Seden'),\n (3549, 'Jodee', 'Macewan'),\n (3550, 'Daisey', 'Britto'),\n (3551, 'Zed', 'Douris'),\n (3552, 'Ebeneser', 'Lowde'),\n (3553, 'Dietrich', 'Geggie'),\n (3554, 'Briggs', 'Mower'),\n (3555, 'Latashia', None),\n (3556, 'Larina', 'Gheeorghie'),\n (3557, 'Tisha', 'Gibbings'),\n (3558, 'Torey', 'Sarney'),\n (3559, 'Farra', 'Bails'),\n (3560, 'Gav', 'Bonin'),\n (3561, 'Emelda', 'Allbones'),\n (3562, 'Martynne', 'Bullivant'),\n (3563, 'De', 'Leyband'),\n (3564, 'Sandy', 'Olford'),\n (3565, 'Charyl', 'Pottiphar'),\n (3566, 'Bram', 'Pheasant'),\n (3567, 'Eileen', 'Ilchenko'),\n (3568, 'Berthe', 'Griniov'),\n (3569, 'Janel', 'Daice'),\n (3570, 'Mordy', 'Hedin'),\n (3571, 'Othilia', 'Metcalf'),\n (3572, 'Willis', 'Tilston'),\n (3573, 'Mab', 'Dwyer'),\n (3574, 'Eileen', 'Eland'),\n (3575, 'Kandace', 'Desesquelle'),\n (3576, 'Rochette', 'Ebbens'),\n (3577, 'Fowler', 'Scotsbrook'),\n (3578, 'Dorella', 'Sineath'),\n (3579, 'Rachel', 'Somes'),\n (3580, 'Roby', 'Samson'),\n (3581, 'Lindsy', 'Ygo'),\n (3582, 'Beryle', 'Qusklay'),\n (3583, 'Josselyn', 'Mathey'),\n (3584, 'Adler', 'Teale'),\n (3585, 'Concordia', 'Lunbech'),\n (3586, 'Abby', 'Brownstein'),\n (3587, 'Ines', 'Galfour'),\n (3588, 'Henrie', 'Beadman'),\n (3589, 'Nalani', 'Dummer'),\n (3590, 'Carolan', 'Velez'),\n (3591, 'Dwight', 'Kinsey'),\n (3592, 'Pall', 'MacCart'),\n (3593, 'Carry', 'Abercromby'),\n (3594, 'Gustavo', 'Juschka'),\n (3595, 'Timi', 'Huson'),\n (3596, 'Christi', 'Gilluley'),\n (3597, 'Giorgi', None),\n (3598, 'Penny', 'McKirdy'),\n (3599, 'Lane', 'Maguire'),\n (3600, 'Godart', 'Gooderick'),\n (3601, 'Fanya', 'Gethyn'),\n (3602, 'Alicea', 'Scamwell'),\n (3603, 'Cale', 'Yaneev'),\n (3604, 'Findlay', 'Lubman'),\n (3605, 'Andy', 'Risely'),\n (3606, 'Jamima', 'Wainscot'),\n (3607, 'Troy', 'Blaydes'),\n (3608, 'Conway', 'Surgen'),\n (3609, 'Chicky', 'Butterfield'),\n (3610, 'Erl', 'Markel'),\n (3611, 'Uriah', 'Chantree'),\n (3612, 'Normand', 'Matous'),\n (3613, 'Fairfax', 'Pummery'),\n (3614, 'Berkie', 'Gimber'),\n (3615, 'Junia', 'Napton'),\n (3616, 'Vale', 'Dagnan'),\n (3617, 'Jessa', 'Milnthorpe'),\n (3618, 'Evyn', 'Rouby'),\n (3619, 'Myranda', 'Cridland'),\n (3620, 'Gerry', 'Ackhurst'),\n (3621, 'Umeko', 'Hearfield'),\n (3622, 'Anetta', 'Brosenius'),\n (3623, 'Oren', 'Barwack'),\n (3624, 'Lenka', None),\n (3625, 'Cammie', 'Rubinfeld'),\n (3626, 'Cora', 'Hince'),\n (3627, 'Loren', 'Pischof'),\n (3628, 'Sharron', 'Gaynes'),\n (3629, 'Vale', 'Starcks'),\n (3630, 'Jeni', 'Heymes'),\n (3631, 'Mignonne', 'Barwood'),\n (3632, 'Elena', 'Sandys'),\n (3633, 'Donavon', 'Ainsby'),\n (3634, 'Clemence', 'Kornas'),\n (3635, 'Elset', None),\n (3636, 'Trudi', 'Bickerstasse'),\n (3637, 'Luigi', 'Edgeworth'),\n (3638, 'Fifi', 'Dorrins'),\n (3639, 'Megan', 'Perrygo'),\n (3640, 'Merralee', 'Forman'),\n (3641, 'Wolfie', 'Hoyes'),\n (3642, 'Ardith', 'Portigall'),\n (3643, 'Bettye', 'Dumberrill'),\n (3644, 'Peder', 'Frotton'),\n (3645, 'Cozmo', 'Rylstone'),\n (3646, 'Allene', 'Pauly'),\n (3647, 'Carlyle', 'Frape'),\n (3648, 'Tracie', 'Bartolomeoni'),\n (3649, 'Jayne', 'Gawthrope'),\n (3650, 'Darrelle', 'Rosas'),\n (3651, 'Baxie', None),\n (3652, 'Aldrich', 'Camble'),\n (3653, 'Devlen', 'Perrett'),\n (3654, 'Kenyon', 'Paddefield'),\n (3655, 'Waldemar', 'Mostin'),\n (3656, 'Talia', 'Sidnell'),\n (3657, 'Wyatan', 'Rogeon'),\n (3658, 'Bo', 'Vell'),\n (3659, 'Farra', 'Catto'),\n (3660, 'Gradeigh', 'Hothersall'),\n (3661, 'Tadeas', 'Shitliff'),\n (3662, 'Pippo', 'Cator'),\n (3663, 'Hermy', 'Casement'),\n (3664, 'Faina', 'Czaja'),\n (3665, 'Toma', 'Klaaasen'),\n (3666, 'Mathew', 'Marousek'),\n (3667, 'Nettie', 'Goghin'),\n (3668, 'Katlin', 'Ragsdale'),\n (3669, 'Maynard', 'Isaq'),\n (3670, 'Leupold', 'Bernardini'),\n (3671, 'Crystie', 'Deshorts'),\n (3672, 'Werner', 'Yglesias'),\n (3673, 'Tobin', 'Fucher'),\n (3674, 'Rodger', 'Gores'),\n (3675, 'Samuele', 'Heller'),\n (3676, 'Derk', 'Willingale'),\n (3677, 'Bartel', 'Fonteyne'),\n (3678, 'Tonya', 'Worthington'),\n (3679, 'Murielle', 'Klimkov'),\n (3680, 'Sawyere', 'Onele'),\n (3681, 'Doll', 'Benedicto'),\n (3682, 'Dukie', 'Asson'),\n (3683, 'Lorain', 'Maliphant'),\n (3684, 'Jeffie', 'Mortell'),\n (3685, 'Solomon', 'Ruffles'),\n (3686, 'Shirley', 'Siss'),\n (3687, 'Jessie', 'Wards'),\n (3688, 'Fritz', 'Le Merchant'),\n (3689, 'Orel', 'Joncic'),\n (3690, 'Sheela', 'Nutton'),\n (3691, 'Mathew', 'Seid'),\n (3692, 'Linea', 'Kubica'),\n (3693, 'Brenna', 'Raft'),\n (3694, 'Antoni', 'MacAllister'),\n (3695, 'Lem', 'Clamp'),\n (3696, 'Orlan', 'Dunning'),\n (3697, 'Zebedee', 'Christal'),\n (3698, 'Devon', 'Baudic'),\n (3699, 'Lillian', 'Somerfield'),\n (3700, 'Lazar', 'Restall'),\n (3701, 'Anstice', 'Dunsmuir'),\n (3702, 'Floyd', 'Meharry'),\n (3703, 'Kelvin', 'Oldford'),\n (3704, 'Haslett', 'Ropars'),\n (3705, 'Tedmund', 'Clawsley'),\n (3706, 'Darby', 'Jellett'),\n (3707, 'Marten', 'Posnette'),\n (3708, 'Lois', 'Laskey'),\n (3709, 'Lilly', 'Roubay'),\n (3710, 'Sallyann', 'Stangoe'),\n (3711, 'Ellene', 'Scinelli'),\n (3712, 'Esmeralda', 'Klousner'),\n (3713, 'Cynthy', 'Snoad'),\n (3714, 'Lemuel', 'Gerram'),\n (3715, 'Willow', 'Rusbridge'),\n (3716, 'Kari', 'Bamlett'),\n (3717, 'Arlin', 'Woollacott'),\n (3718, 'Damiano', None),\n (3719, 'Dorette', 'Attridge'),\n (3720, 'Adelice', 'Tams'),\n (3721, 'Merrili', 'Potticary'),\n (3722, 'Merilee', 'Hammerson'),\n (3723, 'Justine', 'Pirt'),\n (3724, 'Griffith', 'Minor'),\n (3725, 'Elisha', 'Venny'),\n (3726, 'Ange', 'Austick'),\n (3727, 'Eba', 'Youle'),\n (3728, 'Chanda', 'Garmons'),\n (3729, 'Armand', 'McNish'),\n (3730, 'Joann', 'Clemson'),\n (3731, 'Jandy', 'Rodgers'),\n (3732, 'Shawn', 'De Hooge'),\n (3733, 'Shelden', 'Rodenburg'),\n (3734, 'Trixi', 'Wickes'),\n (3735, 'Cchaddie', 'Heffron'),\n (3736, 'Charles', 'Brounfield'),\n (3737, 'Elyssa', 'De Witt'),\n (3738, 'Lucila', 'Smalls'),\n (3739, 'Gates', 'Nelthorpe'),\n (3740, 'Rania', 'Poulter'),\n (3741, 'Mollee', 'Jeavons'),\n (3742, 'Veda', 'Faill'),\n (3743, 'Riki', 'Aimable'),\n (3744, 'Franchot', 'Loeber'),\n (3745, 'Randy', 'Duligall'),\n (3746, 'Thaddeus', 'McLurg'),\n (3747, 'Valerye', 'Yukhtin'),\n (3748, 'Maurise', 'Beal'),\n (3749, 'Blondelle', 'Swynley'),\n (3750, 'Yanaton', 'Beacom'),\n (3751, 'Millicent', 'Nacci'),\n (3752, 'Peta', 'Nunes Nabarro'),\n (3753, 'Ebony', 'Peagrim'),\n (3754, 'Emmy', 'MacGibbon'),\n (3755, 'Stephen', 'Garnar'),\n (3756, 'Barry', None),\n (3757, 'Hyacinthia', 'Crain'),\n (3758, 'Naomi', 'Whiles'),\n (3759, 'Sue', 'Batstone'),\n (3760, 'Bryana', 'Vennart'),\n (3761, 'Zarla', 'Seyers'),\n (3762, 'Marinna', 'Ors'),\n (3763, 'Law', 'Jore'),\n (3764, 'Nonie', 'Newson'),\n (3765, 'Bobbe', 'Lomaz'),\n (3766, 'Marcos', 'Algar'),\n (3767, 'Man', 'Bigglestone'),\n (3768, 'Christina', 'Grevatt'),\n (3769, 'Kerry', 'Wooldridge'),\n (3770, 'Caddric', 'Ruddiforth'),\n (3771, 'Pippy', 'Matysiak'),\n (3772, 'Anselma', 'Rennie'),\n (3773, 'Wadsworth', 'Ruselin'),\n (3774, 'Elizabeth', 'Christy'),\n (3775, 'Avie', 'Cleator'),\n (3776, 'Kennie', 'Baszniak'),\n (3777, 'Letty', 'Giacobelli'),\n (3778, 'Ilaire', 'Redborn'),\n (3779, 'Ulick', 'Daspar'),\n (3780, 'Mitchel', 'Bellefant'),\n (3781, 'Karalee', 'Hosten'),\n (3782, 'Elijah', 'Drillot'),\n (3783, 'Eachelle', 'Girardey'),\n (3784, 'Davie', 'Moscon'),\n (3785, 'Fernande', 'Jahan'),\n (3786, 'Barnie', 'Blenkensop'),\n (3787, 'Mariejeanne', 'Kelling'),\n (3788, 'Wilie', 'Glanton'),\n (3789, 'Conn', 'Westberg'),\n (3790, 'Kurtis', 'Morson'),\n (3791, 'Bertrand', 'Sissons'),\n (3792, 'Ingunna', 'Loxston'),\n (3793, 'Shannen', 'Pitcock'),\n (3794, 'Dorrie', 'Paige'),\n (3795, 'Taylor', 'Dollimore'),\n (3796, 'Morgen', 'Sieghart'),\n (3797, 'Kriste', 'Oldall'),\n (3798, 'Yorker', 'Dennison'),\n (3799, 'Violetta', 'Monnery'),\n (3800, 'Morena', 'Ayer'),\n (3801, 'Auberta', 'Andrault'),\n (3802, 'Leila', 'Elcombe'),\n (3803, 'Josepha', 'Finder'),\n (3804, 'Andria', 'Keays'),\n (3805, 'Margaret', 'McSperrin'),\n (3806, 'Ado', 'Gailor'),\n (3807, 'Bibby', 'Goman'),\n (3808, 'Cal', 'Wilber'),\n (3809, 'Angelita', 'Itzcovichch'),\n (3810, 'Cacilie', 'Grimoldby'),\n (3811, 'Etta', 'Leele'),\n (3812, 'Sophie', 'Druhan'),\n (3813, 'Skelly', 'Caudell'),\n (3814, 'Constancia', 'Gebbe'),\n (3815, 'Jayson', 'Gasparro'),\n (3816, 'Farra', 'Klimkiewich'),\n (3817, 'Tuckie', None),\n (3818, 'Erny', 'Andryushin'),\n (3819, 'Alvan', 'Phillput'),\n (3820, 'Maren', 'Ruske'),\n (3821, 'Cassandra', 'Cescotti'),\n (3822, 'Conny', 'Speechley'),\n (3823, 'Corabel', 'Todd'),\n (3824, 'Giffard', 'Stollman'),\n (3825, 'Cinda', 'Rounds'),\n (3826, 'Marlow', 'Balffye'),\n (3827, 'Cherida', 'Whyffen'),\n (3828, 'Tessy', 'Beefon'),\n (3829, 'Cornie', 'Hillhouse'),\n (3830, 'Jareb', 'Filippucci'),\n (3831, 'Kory', 'Mabson'),\n (3832, 'Sarajane', 'Mortimer'),\n (3833, 'Jamie', 'Staziker'),\n (3834, 'Bianca', 'Ricket'),\n (3835, 'Jorgan', 'Crosoer'),\n (3836, 'Jolee', 'Stearndale'),\n (3837, 'Alysa', 'McDiarmid'),\n (3838, 'Mil', 'Clemitt'),\n (3839, 'Wallie', 'Christauffour'),\n (3840, 'Marc', 'Torrans'),\n (3841, 'Barnebas', 'Munro'),\n (3842, 'Van', 'Durnell'),\n (3843, 'Mahmoud', 'Ligerton'),\n (3844, 'Clotilda', 'Oret'),\n (3845, 'Bonnie', 'Goracci'),\n (3846, 'Nariko', 'McClymont'),\n (3847, 'Erinn', 'Ewing'),\n (3848, 'Luca', 'Cabotto'),\n (3849, 'Marice', 'Morrice'),\n (3850, 'Alexandro', 'McCullock'),\n (3851, 'Fowler', 'Bauduccio'),\n (3852, 'Zerk', 'Merrien'),\n (3853, 'Kerri', 'Marrington'),\n (3854, 'Melody', 'Ivanilov'),\n (3855, 'Brnaby', 'Doughtery'),\n (3856, 'Shane', 'Haseldine'),\n (3857, 'Tanner', 'McCuthais'),\n (3858, 'Sabina', 'Tarbin'),\n (3859, 'Boonie', 'Searle'),\n (3860, 'Sheila-kathryn', 'Conklin'),\n (3861, 'Thayne', 'Canepe'),\n (3862, 'Casey', 'Kett'),\n (3863, 'Virgilio', 'Haverty'),\n (3864, 'Ilyssa', 'Piaggia'),\n (3865, 'Urbanus', 'Fuxman'),\n (3866, 'Theressa', 'Morfield'),\n (3867, 'Carmelia', 'Klimentyonok'),\n (3868, 'Rica', 'Corrado'),\n (3869, 'Amalie', 'Isabell'),\n (3870, 'Fidelia', 'Cess'),\n (3871, 'Magda', 'Shugg'),\n (3872, 'Wilma', 'Budcock'),\n (3873, 'Sascha', 'Paolozzi'),\n (3874, 'Bendicty', 'Juste'),\n (3875, 'Berti', 'Arnould'),\n (3876, 'Willow', 'Cutmere'),\n (3877, 'Georgine', 'Poutress'),\n (3878, 'Waldon', 'Digges'),\n (3879, 'Vin', 'Attack'),\n (3880, 'Donella', 'Disley'),\n (3881, 'Olivie', 'Nazair'),\n (3882, 'Nona', 'Tubb'),\n (3883, 'Nissa', 'Conrad'),\n (3884, 'Sibley', 'Thirlwall'),\n (3885, 'Asher', None),\n (3886, 'Fidela', 'Haresign'),\n (3887, 'Dulcie', 'Nealon'),\n (3888, 'Lusa', 'Vigers'),\n (3889, 'Dunn', 'Ziem'),\n (3890, 'Mavra', 'Padell'),\n (3891, 'Amalea', 'Elcy'),\n (3892, 'Roma', 'Finlater'),\n (3893, 'Hadria', 'Moles'),\n (3894, 'Burgess', 'Diaper'),\n (3895, 'Reginald', 'Struys'),\n (3896, 'Perla', 'Blakiston'),\n (3897, 'Vanni', 'McAloren'),\n (3898, 'Demetrius', 'Youdell'),\n (3899, 'Rex', 'Gittings'),\n (3900, 'Garland', 'Wildsmith'),\n (3901, 'Evelina', 'Bavin'),\n (3902, 'Angelia', 'McPake'),\n (3903, 'Dayna', 'Cawthera'),\n (3904, 'Arabelle', 'Nevill'),\n (3905, 'Leodora', 'Cowill'),\n (3906, 'Bronny', 'Claige'),\n (3907, 'Adriana', 'Heam'),\n (3908, 'Dolf', 'Serridge'),\n (3909, 'Micheil', 'McGeorge'),\n (3910, 'Hall', 'Leyfield'),\n (3911, 'Valeda', 'Ezele'),\n (3912, 'Ryon', 'Darridon'),\n (3913, 'Phylys', 'Neenan'),\n (3914, 'Izabel', 'Roelofs'),\n (3915, 'Cybil', 'Brombell'),\n (3916, 'Myrtia', None),\n (3917, 'Artemas', 'Kyncl'),\n (3918, 'Rosalia', 'Skedge'),\n (3919, 'Traci', 'Beeckx'),\n (3920, 'Filbert', 'Deetlefs'),\n (3921, 'Gaby', 'Lozano'),\n (3922, 'Frans', 'Whitecross'),\n (3923, 'Shay', 'Rayer'),\n (3924, 'Perry', 'Lampert'),\n (3925, 'Cally', 'Chaim'),\n (3926, 'Allistir', 'Heckney'),\n (3927, 'Conway', None),\n (3928, 'Kristin', 'Way'),\n (3929, 'Jacqui', 'Fortnam'),\n (3930, 'Blancha', 'Baldi'),\n (3931, 'Kylie', 'Epine'),\n (3932, 'Hadley', 'Veracruysse'),\n (3933, 'Chiarra', 'Cops'),\n (3934, 'Cherice', 'Wehner'),\n (3935, 'Teodor', 'Alfonsini'),\n (3936, 'Rodd', 'Spare'),\n (3937, 'Brennen', 'Mularkey'),\n (3938, 'Dulcy', 'Wormleighton'),\n (3939, 'Georges', 'Dumbelton'),\n (3940, 'Anna', 'Warmington'),\n (3941, 'Cinnamon', 'Batram'),\n (3942, 'Barbie', 'Gergler'),\n (3943, 'Adler', 'Dredge'),\n (3944, 'Urbain', 'Sinnock'),\n (3945, 'Lazarus', 'Donaghy'),\n (3946, 'Wylie', 'FitzGilbert'),\n (3947, 'Tanitansy', 'McTrustam'),\n (3948, 'Roberto', 'Beinke'),\n (3949, 'Costa', 'Sleightholm'),\n (3950, 'Alic', 'Juniper'),\n (3951, 'Ephrem', 'Hollerin'),\n (3952, 'Di', 'Borsnall'),\n (3953, 'Allyson', 'Simak'),\n (3954, 'Archaimbaud', 'McAteer'),\n (3955, 'Dido', 'Austick'),\n (3956, 'Hector', 'Poundsford'),\n (3957, 'Bernice', 'Scotchforth'),\n (3958, 'Pincus', 'Woodard'),\n (3959, 'Dannie', 'Sowray'),\n (3960, 'Hobart', 'Burgan'),\n (3961, 'Gertie', 'Caser'),\n (3962, 'Benoit', None),\n (3963, 'Ardelle', 'Dasent'),\n (3964, 'Aubrey', 'Souten'),\n (3965, 'Susannah', 'Dumphy'),\n (3966, 'Astrix', 'Sigward'),\n (3967, 'Lillis', 'Dobrowolski'),\n (3968, 'Alexandra', 'Kroch'),\n (3969, 'Randee', 'Penchen'),\n (3970, 'Modesty', 'Storks'),\n (3971, 'Analise', 'Asbrey'),\n (3972, 'Maribelle', 'Schaffel'),\n (3973, 'Carolan', 'Jorez'),\n (3974, 'Misha', 'Ranklin'),\n (3975, 'Dianemarie', 'Kidgell'),\n (3976, 'Gretel', 'Chrystal'),\n (3977, 'Katrinka', 'Van der Beken'),\n (3978, 'Kathlin', 'Robker'),\n (3979, 'Kleon', 'Adam'),\n (3980, 'Nils', 'McGebenay'),\n (3981, 'Konstance', 'Draye'),\n (3982, 'Maurita', \"O'Kinedy\"),\n (3983, 'Jarred', 'Lyste'),\n (3984, 'Thadeus', 'Buxsey'),\n (3985, 'Caryn', 'Padbury'),\n (3986, 'Oralle', 'Petrello'),\n (3987, 'Beckie', 'Wakeham'),\n (3988, 'Ammamaria', 'Ashburne'),\n (3989, 'Nicolas', 'Burdass'),\n (3990, 'Reynard', 'Hagger'),\n (3991, 'Rolph', 'Sweetnam'),\n (3992, 'Germain', 'Tireman'),\n (3993, 'Andi', 'Dumelow'),\n (3994, 'Stephie', 'Byars'),\n (3995, 'Rusty', 'Iapico'),\n (3996, 'Rosalia', 'Halgarth'),\n (3997, 'Blanch', 'Nisuis'),\n (3998, 'Sarene', 'Woolley'),\n (3999, 'Patrizius', None),\n (4000, 'Kippy', 'Oldland')]"
     },
     "execution_count": 79,
     "metadata": {},
     "output_type": "execute_result"
    }
   ],
   "source": [
    "cursor.execute(\"\"\"\n",
    "    SELECT c.customer_id, c.first_name, c.last_name\n",
    "    FROM customer_20240101 c\n",
    "    LEFT JOIN transaction_20240101 t\n",
    "        USING (customer_id)\n",
    "    WHERE t.customer_id IS NULL\n",
    "\"\"\")\n",
    "cursor.fetchall()"
   ],
   "metadata": {
    "collapsed": false,
    "ExecuteTime": {
     "end_time": "2024-02-18T17:35:15.244133045Z",
     "start_time": "2024-02-18T17:35:15.201275297Z"
    }
   },
   "id": "cb10076a339f76a6"
  },
  {
   "cell_type": "markdown",
   "source": [
    "## 2.7. Выведем всех клиентов из IT, у которых транзакции с максимальной стандартной стоимостью\n",
    "Тут используем подзапрос для получения максимальной стандартной стоимости транзакций, которую будем использовать в соответствующем условии."
   ],
   "metadata": {
    "collapsed": false
   },
   "id": "a4021673487c7f5e"
  },
  {
   "cell_type": "code",
   "execution_count": 77,
   "outputs": [
    {
     "data": {
      "text/plain": "[(34, 'Jephthah', 'Bachmann'),\n (168, 'Reggie', 'Broggetti'),\n (255, 'Keeley', 'Kruger'),\n (448, 'Robin', 'Crack'),\n (968, 'Wayne', 'Woodfin'),\n (975, 'Goldarina', 'Rzehorz'),\n (1182, 'Carolann', 'Ottiwill'),\n (1210, 'Shandie', 'Sprigg'),\n (1418, 'Valaria', 'Hugh'),\n (1672, 'Sharla', 'Creebo'),\n (1773, 'Nickolas', 'Guittet'),\n (1972, 'Obed', 'Pauler'),\n (2205, 'Birk', 'Elphey'),\n (2341, 'Caterina', 'Scedall'),\n (2638, 'Moritz', 'Brognot'),\n (3086, 'Pieter', 'Gadesby')]"
     },
     "execution_count": 77,
     "metadata": {},
     "output_type": "execute_result"
    }
   ],
   "source": [
    "cursor.execute(\"\"\"\n",
    "    SELECT DISTINCT c.customer_id, c.first_name, c.last_name\n",
    "    FROM customer_20240101 c\n",
    "    INNER JOIN transaction_20240101 t\n",
    "        USING (customer_id)\n",
    "    WHERE c.job_industry_category = 'IT'\n",
    "        AND t.standard_cost = (SELECT max(standard_cost) FROM transaction_20240101)\n",
    "\"\"\")\n",
    "cursor.fetchall()"
   ],
   "metadata": {
    "collapsed": false,
    "ExecuteTime": {
     "end_time": "2024-02-18T17:32:40.813303744Z",
     "start_time": "2024-02-18T17:32:40.801930448Z"
    }
   },
   "id": "31766b0d6676766e"
  },
  {
   "cell_type": "markdown",
   "source": [
    "## 2.8. Выведем всех клиентов из сферы IT и Health, у которых есть подтвержденные транзакции за период с '2017-07-07' по '2017-07-17'"
   ],
   "metadata": {
    "collapsed": false
   },
   "id": "9e92cfc488b26895"
  },
  {
   "cell_type": "code",
   "execution_count": 78,
   "outputs": [
    {
     "data": {
      "text/plain": "[(22, 'Deeanne', 'Durtnell'),\n (28, 'Fee', 'Zellmer'),\n (41, 'Basilius', 'Coupe'),\n (47, 'Matthew', 'Jeaycock'),\n (104, 'Odille', 'Panketh'),\n (235, 'Leona', 'Phateplace'),\n (239, 'Wells', 'Pressman'),\n (249, \"D'arcy\", 'Slay'),\n (289, 'Modestia', 'Lithgow'),\n (290, 'Giorgio', 'Kevane'),\n (300, 'Malachi', 'Hadcroft'),\n (320, 'Aldous', 'Cubin'),\n (331, 'Ford', 'Groucock'),\n (338, 'Hilliary', 'Littrell'),\n (350, 'Carmela', 'Jesper'),\n (382, 'Issiah', 'Fardell'),\n (414, 'Thorin', 'Grimoldby'),\n (424, 'Dennie', 'Eunson'),\n (428, 'Freida', 'Everil'),\n (503, 'Burr', 'Gerb'),\n (526, 'Ardelle', None),\n (579, 'Cathlene', 'Bellas'),\n (590, 'Ddene', 'Burleton'),\n (612, 'Grange', 'Skillington'),\n (661, 'Cinderella', 'Haslen'),\n (679, 'Yolande', 'Whild'),\n (682, 'Ole', 'Euplate'),\n (685, 'Booth', 'Birkin'),\n (694, 'Lilith', 'Lanning'),\n (708, 'Idalina', 'Wilcot'),\n (712, 'Norine', 'Antonik'),\n (722, 'Stewart', 'Brosoli'),\n (753, 'Josy', 'St. Quentin'),\n (759, 'Mitchel', 'Schimek'),\n (769, 'Cameron', 'Letherbury'),\n (779, 'Maddy', 'Larrat'),\n (788, 'Gregg', 'Townsend'),\n (872, 'Suki', 'Ivachyov'),\n (886, 'Dawna', 'McCullen'),\n (892, 'Conroy', 'Healy'),\n (893, 'Gibby', 'Fearnley'),\n (936, 'Raffaello', 'Godleman'),\n (949, 'Jarid', 'Grebner'),\n (950, 'Bret', 'Ivakhnov'),\n (973, 'Annabella', 'Hebron'),\n (1005, 'Kalila', 'Birtwistle'),\n (1024, 'Rhodia', \"D'Onise\"),\n (1044, 'Frederico', 'Whilder'),\n (1076, 'Siegfried', 'Trattles'),\n (1091, 'Keith', 'Housden'),\n (1095, 'Emelda', 'Gerler'),\n (1166, 'Fannie', 'Devil'),\n (1174, 'Shellysheldon', 'Gooderridge'),\n (1189, 'Mart', 'Bazoche'),\n (1231, 'Aloisia', 'Shawel'),\n (1237, 'Junia', 'Humerstone'),\n (1328, 'Stavro', 'Gargett'),\n (1337, 'Damara', 'Wheatland'),\n (1343, 'Creight', 'Deery'),\n (1376, 'Pail', None),\n (1394, 'Freemon', 'Perago'),\n (1489, 'Mead', 'Wollard'),\n (1516, 'Ham', 'Pietrusiak'),\n (1538, 'Ahmed', 'Edmondson'),\n (1542, 'Sanders', 'Fernyhough'),\n (1555, 'Marcello', 'Spenclay'),\n (1578, 'Andreas', 'Bazely'),\n (1585, 'Stillman', 'Sackur'),\n (1683, 'Brenn', 'Bacon'),\n (1693, 'Ring', 'Birchall'),\n (1760, 'Kelsy', 'Barrowcliff'),\n (1836, 'Rochella', 'Harce'),\n (1862, 'Daron', 'Umpleby'),\n (1907, 'Lind', 'Dredge'),\n (1929, 'Elka', 'Crossgrove'),\n (1952, 'Patrica', 'Donativo'),\n (1956, 'Omero', 'Murra'),\n (2000, 'Kain', 'Rene'),\n (2024, 'Elinor', 'Biggerstaff'),\n (2205, 'Birk', 'Elphey'),\n (2210, 'Kirby', 'Cameron'),\n (2235, 'Maxine', 'Cauldwell'),\n (2285, 'Maritsa', 'Bellison'),\n (2317, 'Alwin', 'Cuberley'),\n (2337, 'Odilia', 'Bick'),\n (2341, 'Caterina', 'Scedall'),\n (2366, 'Idette', 'Mapam'),\n (2391, 'Corny', 'Millott'),\n (2442, 'Odie', 'Enrrico'),\n (2463, 'Krystle', 'Jovicevic'),\n (2490, 'Clint', 'Krause'),\n (2516, 'Zoe', 'Kiddye'),\n (2610, 'Arliene', 'Bartolijn'),\n (2684, 'Erastus', 'Payley'),\n (2690, 'Sissie', 'Giordano'),\n (2701, 'Ileana', 'Timms'),\n (2717, 'Frederic', 'McGown'),\n (2782, 'Gillian', 'Scrimshire'),\n (2881, 'Ezra', 'Steffan'),\n (2953, 'Hector', 'Carwithan'),\n (2973, 'Torr', 'Mintram'),\n (3070, 'Malissia', 'Minthorpe'),\n (3105, 'Bryn', 'Rycraft'),\n (3109, 'Jeralee', 'Domleo'),\n (3151, 'Thorn', 'Choffin'),\n (3166, 'Bronson', 'Plowman'),\n (3169, 'Maxim', 'Chavrin'),\n (3173, 'Angelo', None),\n (3211, 'Betsy', 'Cosh'),\n (3225, 'Durante', 'Reddan'),\n (3255, 'Sutherlan', 'Truin'),\n (3288, 'Fair', 'Dewen'),\n (3360, 'Joelie', 'Sherlaw'),\n (3365, 'Karlens', 'Chaffyn'),\n (3482, 'Roch', 'Rilston')]"
     },
     "execution_count": 78,
     "metadata": {},
     "output_type": "execute_result"
    }
   ],
   "source": [
    "cursor.execute(\"\"\"\n",
    "    SELECT DISTINCT c.customer_id, c.first_name, c.last_name\n",
    "    FROM customer_20240101 c\n",
    "    INNER JOIN transaction_20240101 t\n",
    "        USING (customer_id)\n",
    "    WHERE c.job_industry_category IN ('IT', 'Health')\n",
    "        AND t.order_status = 'Approved'\n",
    "        AND to_date(transaction_date, 'DD.MM.YYYY') BETWEEN '2017-07-07' AND '2017-07-17'\n",
    "\"\"\")\n",
    "cursor.fetchall()"
   ],
   "metadata": {
    "collapsed": false,
    "ExecuteTime": {
     "end_time": "2024-02-18T17:32:40.813429347Z",
     "start_time": "2024-02-18T17:32:40.802050279Z"
    }
   },
   "id": "3bedbd5ca0673acd"
  }
 ],
 "metadata": {
  "kernelspec": {
   "display_name": "Python 3",
   "language": "python",
   "name": "python3"
  },
  "language_info": {
   "codemirror_mode": {
    "name": "ipython",
    "version": 2
   },
   "file_extension": ".py",
   "mimetype": "text/x-python",
   "name": "python",
   "nbconvert_exporter": "python",
   "pygments_lexer": "ipython2",
   "version": "2.7.6"
  }
 },
 "nbformat": 4,
 "nbformat_minor": 5
}
