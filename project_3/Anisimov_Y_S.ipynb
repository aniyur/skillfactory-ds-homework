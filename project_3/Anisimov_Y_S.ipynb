{
 "cells": [
  {
   "cell_type": "markdown",
   "source": [
    "# 0.1. Импортируем зависимости"
   ],
   "metadata": {
    "collapsed": false
   },
   "id": "3cb2b7959a312852"
  },
  {
   "cell_type": "code",
   "execution_count": 57,
   "id": "2874c4d8eaa2aef0",
   "metadata": {
    "collapsed": true,
    "ExecuteTime": {
     "end_time": "2024-02-18T17:29:33.124567049Z",
     "start_time": "2024-02-18T17:29:33.062845338Z"
    }
   },
   "outputs": [],
   "source": [
    "import itertools\n",
    "import pandas as pd\n",
    "import psycopg2\n",
    "from psycopg2.extensions import quote_ident\n",
    "import re"
   ]
  },
  {
   "cell_type": "markdown",
   "source": [
    "# 0.2. Подключимся к базе\n",
    "Предполагается, что соответствующая база и пользователь с соответствующими правами уже созданы, таблиц с наименованиями, конфликтующих с наименованиями таблиц задания в базе нет, подключение таким образом возможно и т.п."
   ],
   "metadata": {
    "collapsed": false
   },
   "id": "3ac1a53d88b52b08"
  },
  {
   "cell_type": "code",
   "execution_count": 58,
   "outputs": [],
   "source": [
    "DATABASE = 'db_hw_2'\n",
    "USER = 'db_hw_2_user'\n",
    "\n",
    "connection = psycopg2.connect(dbname=DATABASE, user=USER)\n",
    "connection.autocommit = True\n",
    "cursor = connection.cursor()"
   ],
   "metadata": {
    "collapsed": false,
    "ExecuteTime": {
     "end_time": "2024-02-18T17:29:33.174263489Z",
     "start_time": "2024-02-18T17:29:33.066201207Z"
    }
   },
   "id": "c00bba8034cfdf17"
  },
  {
   "cell_type": "markdown",
   "source": [
    "# 1.1. Создадим таблицы с соответствующими структурами"
   ],
   "metadata": {
    "collapsed": false
   },
   "id": "9f4214fc1a2e0a9"
  },
  {
   "cell_type": "code",
   "execution_count": 59,
   "outputs": [],
   "source": [
    "cursor.execute(\"\"\"\n",
    "    CREATE TABLE customer_20240101 (\n",
    "        customer_id int4,\n",
    "        first_name varchar(50),\n",
    "        last_name varchar(50),\n",
    "        gender varchar(30),\n",
    "        dob varchar(50),\n",
    "        job_title varchar(50),\n",
    "        job_industry_category varchar(50),\n",
    "        wealth_segment varchar(50),\n",
    "        deceased_indicator varchar(50),\n",
    "        owns_car varchar(30),\n",
    "        address varchar(50),\n",
    "        postcode varchar(30),\n",
    "        state varchar(30),\n",
    "        country varchar(30),\n",
    "        property_valuation int4\n",
    "    )\n",
    "\"\"\")\n",
    "\n",
    "cursor.execute(\"\"\"\n",
    "    CREATE TABLE transaction_20240101 (\n",
    "        transaction_id int4,\n",
    "        product_id int4,\n",
    "        customer_id int4,\n",
    "        transaction_date varchar(30),\n",
    "        online_order varchar(30),\n",
    "        order_status varchar(30),\n",
    "        brand varchar(30),\n",
    "        product_line varchar(30),\n",
    "        product_class varchar(30),\n",
    "        product_size varchar(30),\n",
    "        list_price float4,\n",
    "        standard_cost float4\n",
    "    )\n",
    "\"\"\")"
   ],
   "metadata": {
    "collapsed": false,
    "ExecuteTime": {
     "end_time": "2024-02-18T17:29:33.196559218Z",
     "start_time": "2024-02-18T17:29:33.087145528Z"
    }
   },
   "id": "614bfcbb8d28ebde"
  },
  {
   "cell_type": "markdown",
   "source": [
    "# 1.2. Загрузим данные в базу из csv-файлов \n",
    "Для этого, после чтения данных из каждого файла, будем формировать и выполнять SQL-запрос `INSERT INTO ...` вида `INSERT INTO table_name ( column_name [, ...] ) VALUES (expression, ...), ...` согласно [официальной документации PostgreSQL](https://www.postgresql.org/docs/current/sql-insert.html).\n",
    "\n",
    "Заодно выведем наименования колонок таблиц."
   ],
   "metadata": {
    "collapsed": false
   },
   "id": "210d2e9bad7289a9"
  },
  {
   "cell_type": "code",
   "execution_count": 60,
   "outputs": [
    {
     "name": "stdout",
     "output_type": "stream",
     "text": [
      "Колонки таблицы \"customer_20240101\": \"customer_id\", \"first_name\", \"last_name\", \"gender\", \"dob\", \"job_title\", \"job_industry_category\", \"wealth_segment\", \"deceased_indicator\", \"owns_car\", \"address\", \"postcode\", \"state\", \"country\", \"property_valuation\"\n",
      "Колонки таблицы \"transaction_20240101\": \"transaction_id\", \"product_id\", \"customer_id\", \"transaction_date\", \"online_order\", \"order_status\", \"brand\", \"product_line\", \"product_class\", \"product_size\", \"list_price\", \"standard_cost\"\n"
     ]
    }
   ],
   "source": [
    "for filename in ['customer.csv', 'transaction.csv']:\n",
    "    # прочитаем данные из соответствующего файла\n",
    "    # NULL-ами (в терминах SQL) будем считать пустые строки и строку \"null\" в любом регистре\n",
    "    # типы используем такие, которые позволят избежать нежелательного изменения данных\n",
    "    # с учётом типов, заданных выше для соответствующих колонок наших таблиц в базе\n",
    "    df = pd.read_csv(filename, nrows=1, sep=';')\n",
    "    dtypes = {k: str for k in df.columns}\n",
    "    dtypes.update(list_price=float, standard_cost=float)\n",
    "    df = pd.read_csv(\n",
    "        filename, \n",
    "        sep=';',\n",
    "        na_values=('', ),\n",
    "        keep_default_na=False,\n",
    "        decimal=',',\n",
    "        dtype=dtypes,\n",
    "    )\n",
    "    table = f'{filename[:-4]}_20240101'\n",
    "    df = df.map(lambda x: None if isinstance(x, str) and re.match('^null$', x, flags=re.I) else x)\n",
    "    df = df.where(pd.notnull(df), None)\n",
    "    \n",
    "    # значения для вставки и наименования колонок\n",
    "    values = list(itertools.chain.from_iterable(df.values.tolist()))\n",
    "    cols = [i.lower() for i in df.columns]\n",
    "    del df\n",
    "    \n",
    "    # Сформируем (и выполним) запрос INSERT INTO следующего вида\n",
    "    # INSERT INTO table_name ( column_name [, ...] ) VALUES (expression, ...), ...\n",
    "    # согласно официальной документации https://www.postgresql.org/docs/current/sql-insert.html\n",
    "    cols_sql = ', '.join(quote_ident(i, cursor) for i in cols)\n",
    "    print(f'Колонки таблицы \"{table}\": {cols_sql}')\n",
    "    values_sql = ','.join([f'(' + ','.join(['%s'] * len(cols)) + ')'] * (len(values) // len(cols)))\n",
    "    table_ident = quote_ident(table, cursor)\n",
    "    cursor.execute(f'INSERT INTO {table_ident} ({cols_sql}) VALUES {values_sql}', values)"
   ],
   "metadata": {
    "collapsed": false,
    "ExecuteTime": {
     "end_time": "2024-02-18T17:29:33.703606078Z",
     "start_time": "2024-02-18T17:29:33.129658896Z"
    }
   },
   "id": "68d6e3ccb8f4ccc1"
  },
  {
   "cell_type": "markdown",
   "source": [
    "## Получим полезную информацию о данных для использования в дальнейшем\n",
    "По наименованиям колонок и в результате осмотра данных в файлах / таблицах видим, что потенциальные ключи тут скорее всего `customer_id` для таблицы `customer_20240101` и `transaction_id` для таблицы `transaction_20240101`, а объединять таблицы скорее всего разумно по колонке `customer_id`, получим дополнительные данные, чтобы подкрепить данные предположения."
   ],
   "metadata": {
    "collapsed": false
   },
   "id": "de231368b47a6eaa"
  },
  {
   "cell_type": "code",
   "execution_count": 62,
   "outputs": [
    {
     "name": "stdout",
     "output_type": "stream",
     "text": [
      "В таблице customer_20240101 значения customer_id уникальны: True, есть ли пропуски (null) в customer_id: False\n",
      "В таблице transaction_20240101 значения transaction_id уникальны: True, есть ли пропуски (null) в transaction_id: False\n",
      "В таблице transaction_20240101 количество записей (строк): 20000, записей, по которым нет соответствующей записи в customer_20240101, если присоединять по равенству customer_id: 3\n"
     ]
    }
   ],
   "source": [
    "cursor.execute(\"\"\"\n",
    "    SELECT count(DISTINCT customer_id) = count(*), bool_or(customer_id IS NULL)\n",
    "    FROM customer_20240101\n",
    "\"\"\")\n",
    "print(('В таблице customer_20240101 значения customer_id уникальны: %s,'\n",
    "       + ' есть ли пропуски (null) в customer_id: %s') % cursor.fetchall()[0])\n",
    "cursor.execute(\"\"\"\n",
    "    SELECT count(DISTINCT transaction_id) = count(*), bool_or(transaction_id IS NULL)\n",
    "    FROM transaction_20240101\n",
    "\"\"\")\n",
    "print(('В таблице transaction_20240101 значения transaction_id уникальны: %s,'\n",
    "       ' есть ли пропуски (null) в transaction_id: %s') % cursor.fetchall()[0])\n",
    "cursor.execute(\"\"\"\n",
    "    SELECT count(*), sum((c.customer_id IS NULL)::int)\n",
    "    FROM transaction_20240101 t LEFT JOIN customer_20240101 c USING (customer_id)\n",
    "\"\"\")\n",
    "print(('В таблице transaction_20240101 количество записей (строк): %s, записей,'\n",
    "       ' по которым нет соответствующей записи в customer_20240101,'\n",
    "       ' если присоединять по равенству customer_id: %s') % cursor.fetchall()[0])"
   ],
   "metadata": {
    "collapsed": false,
    "ExecuteTime": {
     "end_time": "2024-02-18T17:30:12.770347534Z",
     "start_time": "2024-02-18T17:30:12.726975145Z"
    }
   },
   "id": "8534e289452e8167"
  },
  {
   "cell_type": "markdown",
   "source": [
    "Из вышеполученных результатов видим, что атрибуты `customer_id` и `transaction_id` являются потенциальными ключами таблиц `customer_20240101` и `transaction_20240101` соответственно.\n",
    "Для надёжности, ниже создадим соответствующие ограничения \"первичный ключ\", что не получится, если вывод неверен.\n",
    "Кроме того, видно, что почти всем значениям `customer_id` в таблице `transaction_20240101` соответствует значение `customer_id` в таблице `customer_20240101`, поэтому будем соединять их по равенству значений этой колонки, когда для запроса нам будут нужны данные из обеих таблиц."
   ],
   "metadata": {
    "collapsed": false
   },
   "id": "76b24c2eff537c4d"
  },
  {
   "cell_type": "code",
   "execution_count": null,
   "outputs": [],
   "source": [
    "cursor.execute('ALTER TABLE customer_20240101 ADD PRIMARY KEY (customer_id)')\n",
    "cursor.execute('ALTER TABLE transaction_20240101 ADD PRIMARY KEY (transaction_id)')"
   ],
   "metadata": {
    "collapsed": false,
    "ExecuteTime": {
     "start_time": "2024-02-18T17:29:33.749775870Z"
    }
   },
   "id": "1468fe94aec00cd6"
  },
  {
   "cell_type": "markdown",
   "source": [
    "Получилось наложить соответствующие ограничения \"первичный ключ\", чем дополнительно подтвердилось, что можем полагаться на то, что ключам customer_id, transaction_id соответствуют уникальные строки в соответствующих таблицах, где они являются первичными ключами, пропусков (null в терминах SQL) в этих полях нет."
   ],
   "metadata": {
    "collapsed": false
   },
   "id": "16f7f004166cb758"
  },
  {
   "cell_type": "markdown",
   "source": [
    "Поскольку ниже нам понадобится знать, является ли заказ онлайн-заказом или нет, посмотрим, какие значения бывают в соответствующей колонке."
   ],
   "metadata": {
    "collapsed": false
   },
   "id": "9747e424a4e83ec6"
  },
  {
   "cell_type": "code",
   "execution_count": null,
   "outputs": [],
   "source": [
    "cursor.execute('SELECT DISTINCT online_order FROM transaction_20240101')\n",
    "cursor.fetchall()"
   ],
   "metadata": {
    "collapsed": false,
    "ExecuteTime": {
     "start_time": "2024-02-18T17:29:33.749838748Z"
    }
   },
   "id": "2b71a88084ac4d28"
  },
  {
   "cell_type": "markdown",
   "source": [
    "Видим, что для получения онлайн-заказов разумно будет использовать условие `online_order = 'True'`."
   ],
   "metadata": {
    "collapsed": false
   },
   "id": "2ef5ba65d3183489"
  },
  {
   "cell_type": "markdown",
   "source": [
    "Далее посмотрим, какие значения бывают у статуса подтверждённости транзакции."
   ],
   "metadata": {
    "collapsed": false
   },
   "id": "1177fc50a652f9cf"
  },
  {
   "cell_type": "code",
   "execution_count": null,
   "outputs": [],
   "source": [
    "cursor.execute('SELECT DISTINCT order_status FROM transaction_20240101')\n",
    "cursor.fetchall()"
   ],
   "metadata": {
    "collapsed": false,
    "ExecuteTime": {
     "start_time": "2024-02-18T17:29:33.749947645Z"
    }
   },
   "id": "eb6f4a630cb6776f"
  },
  {
   "cell_type": "markdown",
   "source": [
    "Видим, что подтверждённые транзакции разумно будет выбирать по значению `order_status = 'Approved'`"
   ],
   "metadata": {
    "collapsed": false
   },
   "id": "8111bd234a230341"
  },
  {
   "cell_type": "markdown",
   "source": [
    "# 2. Выполним запросы для вывода разной информации\n",
    "\n",
    "Результат каждого запроса будем выводить в виде списка кортежей, который возвращает метод `cursor.fetchall` соответствующего объекта из библиотеки `psycopg2`\n",
    "\n",
    "Ниже в запросах будем использовать оператор `DISTINCT` для вывода только уникальных строк, функцию `to_date` для приведения строк к типу `date`.\n",
    "\n",
    "## 2.1. Выведем все уникальные бренды, у которых стандартная стоимость выше 1500 долларов"
   ],
   "metadata": {
    "collapsed": false
   },
   "id": "1d66bcd38e200e19"
  },
  {
   "cell_type": "code",
   "execution_count": null,
   "outputs": [],
   "source": [
    "cursor.execute(\"\"\"\n",
    "    SELECT DISTINCT brand\n",
    "    FROM transaction_20240101\n",
    "    WHERE standard_cost > 1500\n",
    "        -- кажется нелогичным считать пропуски (NULL) брендами, поэтому их выводить не будем\n",
    "        AND brand IS NOT NULL\n",
    "\"\"\")\n",
    "cursor.fetchall()"
   ],
   "metadata": {
    "collapsed": false,
    "ExecuteTime": {
     "end_time": "2024-02-18T17:29:33.750626095Z",
     "start_time": "2024-02-18T17:29:33.750081367Z"
    }
   },
   "id": "532f25bb137bd4a9"
  },
  {
   "cell_type": "markdown",
   "source": [
    "## 2.2. Выведем все подтвержденные транзакции за период с '2017-04-01' по '2017-04-09' включительно"
   ],
   "metadata": {
    "collapsed": false
   },
   "id": "3117b25c044fdc4a"
  },
  {
   "cell_type": "code",
   "execution_count": null,
   "outputs": [],
   "source": [
    "cursor.execute(\"\"\"\n",
    "    SELECT DISTINCT transaction_id, transaction_date\n",
    "    FROM transaction_20240101\n",
    "    WHERE order_status = 'Approved'\n",
    "        AND to_date(transaction_date, 'DD.MM.YYYY') BETWEEN '2017-04-01' AND '2017-04-09'\n",
    "\"\"\")\n",
    "cursor.fetchall()"
   ],
   "metadata": {
    "collapsed": false,
    "ExecuteTime": {
     "start_time": "2024-02-18T17:29:33.750118792Z"
    }
   },
   "id": "b02071aaddf6e220"
  },
  {
   "cell_type": "markdown",
   "source": [
    "## 2.3. Выведем все профессии у клиентов из сферы IT или Financial Services, которые начинаются с фразы 'Senior'\n",
    "Для такой фильтрации используем оператор `LIKE`, фразу пропишем в запросе в виде `'Senior%'`, чтобы фильтровались фразы, начинающиеся с неё."
   ],
   "metadata": {
    "collapsed": false
   },
   "id": "cbabd1127baf38d"
  },
  {
   "cell_type": "code",
   "execution_count": null,
   "outputs": [],
   "source": [
    "cursor.execute(\"\"\"\n",
    "    SELECT DISTINCT job_title\n",
    "    FROM customer_20240101\n",
    "    WHERE job_industry_category IN ('IT', 'Financial Services')\n",
    "        AND job_title LIKE 'Senior%'\n",
    "\"\"\")\n",
    "cursor.fetchall()"
   ],
   "metadata": {
    "collapsed": false,
    "ExecuteTime": {
     "start_time": "2024-02-18T17:29:33.750153464Z"
    }
   },
   "id": "77aebe35982fa0ac"
  },
  {
   "cell_type": "markdown",
   "source": [
    "## 2.4. Выведем все бренды, которые закупают клиенты, работающие в сфере Financial Services\n",
    "Здесь нам понадобятся данные из двух таблиц. Для присоединения используем, например, оператор `USING`, т.к. присоединять мы хотим по условию равенства значений `customer_id` из обеих таблиц (осмотрев данные в файле и по наименованиям колонок таблиц, которые мы выводили выше, несложно сделать вывод, что присоединять нужно по `customer_id`), что данный оператор нам и обеспечит.\n",
    "\n",
    "Используем `INNER JOIN`, т.к. нас интересуют только случаи наличия соответствующих данных в обеих таблицах."
   ],
   "metadata": {
    "collapsed": false
   },
   "id": "a2c7a757ea0a691f"
  },
  {
   "cell_type": "code",
   "execution_count": null,
   "outputs": [],
   "source": [
    "cursor.execute(\"\"\"\n",
    "    SELECT DISTINCT t.brand\n",
    "    FROM transaction_20240101 t\n",
    "    INNER JOIN customer_20240101 c\n",
    "        USING (customer_id)\n",
    "    WHERE c.job_industry_category = 'Financial Services'\n",
    "        AND t.brand IS NOT NULL\n",
    "\"\"\")\n",
    "cursor.fetchall()"
   ],
   "metadata": {
    "collapsed": false,
    "ExecuteTime": {
     "start_time": "2024-02-18T17:29:33.750184782Z"
    }
   },
   "id": "d44d1a5743e87f90"
  },
  {
   "cell_type": "markdown",
   "source": [
    "## 2.5. Выведем 10 клиентов, которые оформили онлайн-заказ продукции из брендов 'Giant Bicycles', 'Norco Bicycles', 'Trek Bicycles'\n",
    "Для разнообразия (и чтобы показать, что мы и так умеем) присоединим по условию без оператора `USING`."
   ],
   "metadata": {
    "collapsed": false
   },
   "id": "64e038dec90b0648"
  },
  {
   "cell_type": "code",
   "execution_count": null,
   "outputs": [],
   "source": [
    "cursor.execute(\"\"\"\n",
    "    SELECT DISTINCT c.customer_id, c.first_name, c.last_name\n",
    "    FROM customer_20240101 c\n",
    "    INNER JOIN transaction_20240101 t\n",
    "        ON t.customer_id = c.customer_id\n",
    "    WHERE t.online_order = 'True'\n",
    "        AND t.brand IN ('Giant Bicycles', 'Norco Bicycles', 'Trek Bicycles')\n",
    "    LIMIT 10\n",
    "\"\"\")\n",
    "cursor.fetchall()"
   ],
   "metadata": {
    "collapsed": false,
    "ExecuteTime": {
     "start_time": "2024-02-18T17:29:33.750206763Z"
    }
   },
   "id": "cdaadec9ec7729bc"
  },
  {
   "cell_type": "markdown",
   "source": [
    "## 2.6. Выведем всех клиентов, у которых нет транзакций\n",
    "Тут используем `LEFT JOIN`, чтобы в выборке сохранились строки из `customer_20240101`, не соответствующие никаким строкам из `transaction_20240101` по соответствующему условию. Эти строки нас и будут интересовать - это будут строки, относящиеся к клиентам, у которых нет транзакций, что нас и интересует. Отфильтруем их с помощью соответствующего условия, как показано в запросе."
   ],
   "metadata": {
    "collapsed": false
   },
   "id": "87c23bcb9121e095"
  },
  {
   "cell_type": "code",
   "execution_count": null,
   "outputs": [],
   "source": [
    "cursor.execute(\"\"\"\n",
    "    SELECT DISTINCT c.customer_id, c.first_name, c.last_name\n",
    "    FROM customer_20240101 c\n",
    "    LEFT JOIN transaction_20240101 t\n",
    "        USING (customer_id)\n",
    "    WHERE t.customer_id IS NULL\n",
    "\"\"\")\n",
    "cursor.fetchall()"
   ],
   "metadata": {
    "collapsed": false,
    "ExecuteTime": {
     "start_time": "2024-02-18T17:29:33.750226603Z"
    }
   },
   "id": "cb10076a339f76a6"
  },
  {
   "cell_type": "markdown",
   "source": [
    "## 2.7. Выведем всех клиентов из IT, у которых транзакции с максимальной стандартной стоимостью\n",
    "Тут используем подзапрос для получения максимальной стандартной стоимости транзакций, которую будем использовать в соответствующем условии."
   ],
   "metadata": {
    "collapsed": false
   },
   "id": "a4021673487c7f5e"
  },
  {
   "cell_type": "code",
   "execution_count": null,
   "outputs": [],
   "source": [
    "cursor.execute(\"\"\"\n",
    "    SELECT DISTINCT c.customer_id, c.first_name, c.last_name\n",
    "    FROM customer_20240101 c\n",
    "    INNER JOIN transaction_20240101 t\n",
    "        USING (customer_id)\n",
    "    WHERE c.job_industry_category = 'IT'\n",
    "        AND t.standard_cost = (SELECT max(standard_cost) FROM transaction_20240101)\n",
    "\"\"\")\n",
    "cursor.fetchall()"
   ],
   "metadata": {
    "collapsed": false,
    "ExecuteTime": {
     "start_time": "2024-02-18T17:29:33.750246355Z"
    }
   },
   "id": "31766b0d6676766e"
  },
  {
   "cell_type": "markdown",
   "source": [
    "## 2.8. Выведем всех клиентов из сферы IT и Health, у которых есть подтвержденные транзакции за период с '2017-07-07' по '2017-07-17'"
   ],
   "metadata": {
    "collapsed": false
   },
   "id": "9e92cfc488b26895"
  },
  {
   "cell_type": "code",
   "execution_count": null,
   "outputs": [],
   "source": [
    "cursor.execute(\"\"\"\n",
    "    SELECT DISTINCT c.customer_id, c.first_name, c.last_name\n",
    "    FROM customer_20240101 c\n",
    "    INNER JOIN transaction_20240101 t\n",
    "        USING (customer_id)\n",
    "    WHERE c.job_industry_category IN ('IT', 'Health')\n",
    "        AND t.order_status = 'Approved'\n",
    "        AND to_date(transaction_date, 'DD.MM.YYYY') BETWEEN '2017-07-07' AND '2017-07-17'\n",
    "\"\"\")\n",
    "cursor.fetchall()"
   ],
   "metadata": {
    "collapsed": false,
    "ExecuteTime": {
     "start_time": "2024-02-18T17:29:33.750267744Z"
    }
   },
   "id": "3bedbd5ca0673acd"
  }
 ],
 "metadata": {
  "kernelspec": {
   "display_name": "Python 3",
   "language": "python",
   "name": "python3"
  },
  "language_info": {
   "codemirror_mode": {
    "name": "ipython",
    "version": 2
   },
   "file_extension": ".py",
   "mimetype": "text/x-python",
   "name": "python",
   "nbconvert_exporter": "python",
   "pygments_lexer": "ipython2",
   "version": "2.7.6"
  }
 },
 "nbformat": 4,
 "nbformat_minor": 5
}
